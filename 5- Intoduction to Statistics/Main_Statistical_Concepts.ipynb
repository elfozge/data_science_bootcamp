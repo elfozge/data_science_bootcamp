{
  "nbformat": 4,
  "nbformat_minor": 0,
  "metadata": {
    "kernelspec": {
      "display_name": "Python 3",
      "language": "python",
      "name": "python3"
    },
    "language_info": {
      "codemirror_mode": {
        "name": "ipython",
        "version": 3
      },
      "file_extension": ".py",
      "mimetype": "text/x-python",
      "name": "python",
      "nbconvert_exporter": "python",
      "pygments_lexer": "ipython3",
      "version": "3.8.7"
    },
    "colab": {
      "name": "Main_Statistical_Concepts.ipynb",
      "provenance": [],
      "collapsed_sections": []
    }
  },
  "cells": [
    {
      "cell_type": "markdown",
      "metadata": {
        "id": "VXfCSA0drCIg"
      },
      "source": [
        "- Analyze the central tendency and distribution measurements with the mathematical formula given above and the built-in codes available in python through 3 different data that you will generate using the numpy library !!!"
      ]
    },
    {
      "cell_type": "code",
      "metadata": {
        "id": "FFhxgpuMrCIp"
      },
      "source": [
        "import numpy as np\n",
        "import pandas as pd\n",
        "import statistics\n",
        "\n",
        "r1 = np.random.normal(60,10,100)\n",
        "r2 = np.random.normal(121,15,185)\n",
        "r3 = np.random.normal(435,27,780)"
      ],
      "execution_count": null,
      "outputs": []
    },
    {
      "cell_type": "code",
      "metadata": {
        "id": "LB0PMtQlrNK-",
        "colab": {
          "base_uri": "https://localhost:8080/"
        },
        "outputId": "115fd02c-d2f3-47c5-8f8c-523572a9f7a5"
      },
      "source": [
        "#Mean\n",
        "\n",
        "# Calculation based on Built-in Python code\n",
        "mean1= sum(r1)/len(r1)\n",
        "mean2= sum(r2)/len(r2)\n",
        "mean3= sum(r3)/len(r3)\n",
        "\n",
        "print('Mean for r1: ', mean1)\n",
        "print('Mean for r2: ', mean2)\n",
        "print('Mean for r3: ', mean3)\n",
        "print('--'*20)\n",
        "\n",
        "#With NumPy\n",
        "print(\"Mean r1 is:\", np.mean(r1))\n",
        "print(\"Mean r2 is:\", np.mean(r2))\n",
        "print(\"Mean r3 is:\", np.mean(r3))"
      ],
      "execution_count": null,
      "outputs": [
        {
          "output_type": "stream",
          "text": [
            "Mean for r1:  61.0497926749408\n",
            "Mean for r2:  120.61343887738367\n",
            "Mean for r3:  433.37340370998925\n",
            "----------------------------------------\n",
            "Mean r1 is: 61.0497926749408\n",
            "Mean r2 is: 120.61343887738366\n",
            "Mean r3 is: 433.3734037099896\n"
          ],
          "name": "stdout"
        }
      ]
    },
    {
      "cell_type": "code",
      "metadata": {
        "id": "VgXKNq_Ct2vS",
        "colab": {
          "base_uri": "https://localhost:8080/"
        },
        "outputId": "adccb868-8331-42da-eaeb-bc5ec13f0028"
      },
      "source": [
        "#Median\n",
        "#with Python built-in code\n",
        "def median(sample):\n",
        "  n= len(sample)\n",
        "  index = n//2\n",
        "  if n % 2 == 0:\n",
        "    return sorted(sample)[index]\n",
        "  else:\n",
        "    return sum(sorted(sample)[index-1: index+1])/2\n",
        "\n",
        "print('Median for r1 is {}, for r2 is {} and for r3 is {}.'.format(median(r1),median(r2),median(r3)))\n",
        "print('--'*20)\n",
        "\n",
        "#With NumPy\n",
        "print(\"Median of r1 is:\", np.median(r1))\n",
        "print(\"Median of r2 is:\", np.median(r2))\n",
        "print(\"Mean of r3 is:\", np.median(r3))\n",
        "print('--'*20)\n",
        "\n",
        "#with statistics library\n",
        "print(\"Median of r1 :\", statistics.median(r1))\n",
        "print(\"Median of r2 :\", statistics.median(r2))\n",
        "print(\"Median of r3 :\", statistics.median(r3))"
      ],
      "execution_count": null,
      "outputs": [
        {
          "output_type": "stream",
          "text": [
            "Median for r1 is 60.5579782476075, for r2 is 121.217687427442 and for r3 is 433.53461208305475.\n",
            "----------------------------------------\n",
            "Median of r1 is: 60.318406035112446\n",
            "Median of r2 is: 121.30227577486653\n",
            "Mean of r3 is: 433.5224496179027\n",
            "----------------------------------------\n",
            "Median of r1 : 60.318406035112446\n",
            "Median of r2 : 121.30227577486653\n",
            "Median of r3 : 433.5224496179027\n"
          ],
          "name": "stdout"
        }
      ]
    },
    {
      "cell_type": "code",
      "metadata": {
        "id": "T-dOYGFOwJr7",
        "colab": {
          "base_uri": "https://localhost:8080/"
        },
        "outputId": "322abff8-b3b0-4db4-a440-fdf960d0bdd6"
      },
      "source": [
        "#Mode\n",
        "\n",
        "(values, counts) = np.unique(r1, return_counts=True)\n",
        "ind = np.argmax(counts)\n",
        "print(\"Mode for r1: \", values[ind])\n",
        "\n",
        "(values, counts) = np.unique(r2, return_counts=True)\n",
        "ind = np.argmax(counts)\n",
        "print(\"Mode for r2: \", values[ind])\n",
        "\n",
        "(values, counts) = np.unique(r3, return_counts=True)\n",
        "ind = np.argmax(counts)\n",
        "print(\"Mode for r3: \", values[ind])\n",
        "print('--'*20)\n",
        "\n",
        "#with statistics library\n",
        "#print('Mode for r1:',statistics.mode(r1))"
      ],
      "execution_count": null,
      "outputs": [
        {
          "output_type": "stream",
          "text": [
            "Mode for r1:  39.60047351901173\n",
            "Mode for r2:  85.60067684990119\n",
            "Mode for r3:  343.4237107389075\n",
            "----------------------------------------\n"
          ],
          "name": "stdout"
        }
      ]
    },
    {
      "cell_type": "code",
      "metadata": {
        "id": "Zn_WUyEozxzU",
        "colab": {
          "base_uri": "https://localhost:8080/"
        },
        "outputId": "c6be1fe2-757c-4849-b8a9-d88017a82fce"
      },
      "source": [
        "#Variance\n",
        "#with NumPy\n",
        "print('Variance of r1 ', np.var(r1, ddof=1))\n",
        "print('Variance of r2 ', np.var(r2, ddof=1))\n",
        "print('Variance of r3 ', np.var(r3, ddof=1))\n",
        "print('--'*20)\n",
        "\n",
        "#with Pandas\n",
        "print('Variance r1', r1.var(ddof=1))\n",
        "print('Variance r2', r2.var(ddof=1))\n",
        "print('Variance r3', r3.var(ddof=1))"
      ],
      "execution_count": null,
      "outputs": [
        {
          "output_type": "stream",
          "text": [
            "Variance of r1  87.68772761066185\n",
            "Variance of r2  233.86492059243668\n",
            "Variance of r3  710.5047512099783\n",
            "----------------------------------------\n",
            "Variance r1 87.68772761066185\n",
            "Variance r2 233.86492059243668\n",
            "Variance r3 710.5047512099783\n"
          ],
          "name": "stdout"
        }
      ]
    },
    {
      "cell_type": "code",
      "metadata": {
        "id": "KZyMQF6g0lAh",
        "colab": {
          "base_uri": "https://localhost:8080/"
        },
        "outputId": "85ce7308-6d2c-44b2-eac4-b07820efb7b9"
      },
      "source": [
        "#Standard deviation\n",
        "\n",
        "#with NumPy\n",
        "print('Standard deviation of r1 ', np.std(r1, ddof=1))\n",
        "print('Standard deviation of r2 ', np.std(r2, ddof=1))\n",
        "print('Standard deviation of r3 ', np.std(r3, ddof=1))\n",
        "print('--'*20)\n",
        "\n",
        "#Standar Error\n",
        "print('Standard error of r1 ', np.std(r1 ,ddof=1) / np.sqrt(len(r1)))\n",
        "print('Standard error of r2 ', np.std(r2 ,ddof=1) / np.sqrt(len(r2)))\n",
        "print('Standard error of r3 ', np.std(r3 ,ddof=1) / np.sqrt(len(r3)))"
      ],
      "execution_count": null,
      "outputs": [
        {
          "output_type": "stream",
          "text": [
            "Standard deviation of r1  9.364172553443355\n",
            "Standard deviation of r2  15.292642694852864\n",
            "Standard deviation of r3  26.655294993865258\n",
            "----------------------------------------\n",
            "Standard error of r1  0.9364172553443355\n",
            "Standard error of r2  1.1243374519711877\n",
            "Standard error of r3  0.9544126608507872\n"
          ],
          "name": "stdout"
        }
      ]
    }
  ]
}