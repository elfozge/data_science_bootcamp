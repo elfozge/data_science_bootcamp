{
  "nbformat": 4,
  "nbformat_minor": 0,
  "metadata": {
    "kernelspec": {
      "display_name": "Python 3",
      "language": "python",
      "name": "python3"
    },
    "language_info": {
      "codemirror_mode": {
        "name": "ipython",
        "version": 3
      },
      "file_extension": ".py",
      "mimetype": "text/x-python",
      "name": "python",
      "nbconvert_exporter": "python",
      "pygments_lexer": "ipython3",
      "version": "3.8.7"
    },
    "colab": {
      "name": "Probability.ipynb",
      "provenance": [],
      "collapsed_sections": []
    }
  },
  "cells": [
    {
      "cell_type": "markdown",
      "metadata": {
        "id": "r4f_mM_ZOOQ3"
      },
      "source": [
        "It has been found that some of the computers sold by Company A are defective. Assuming that there are 3 computer-producing companies (A, B, and C), the amount of computer production of these companies and the probabilities of defective production are as follows:\n",
        "\n",
        "Total production percentage : <br>\n",
        "$P(A)=0.40$<br>\n",
        "$P(B)=0.40$ <br>\n",
        "$P(C)=0.20$<br>\n",
        "\n",
        "Possibility of defective production :<br>\n",
        "$P(D|A)=0.015$<br>\n",
        "$P(D|B)=0.020$<br>\n",
        "$P(D|C)=0.010$\n",
        "\n",
        "- What is the probability that a randomly selected defective computer will be produced by company B?"
      ]
    },
    {
      "cell_type": "markdown",
      "metadata": {
        "id": "h4Fy_c3wOUlj"
      },
      "source": [
        "Assume that we totally have 1000 computers. So\n",
        "*   Company A produces 400 computers,\n",
        "*   Company B produces 400 computers and\n",
        "*   Company C produces 200 computers.\n",
        "\n",
        "For the defective production numbers when for each company produces 1000 computers ;\n",
        "*   15 defective computers are produced by Company A,\n",
        "*   20 defective ones are produced by Company B and\n",
        "*   10 defective computers are produced by Company C.\n",
        "\n",
        "But with thir original production number:\n",
        "- Company A, B and C have 6, 8 and 2 defective computers respectively.\n",
        "- As can be seen in all 16 defective computers, there are 8 defective computers which are produced by Company B. Hence, the probabilitiy that a randomly selected defective computer will produced by company B is 50%.\n",
        "\n",
        "Let's check this result with Conditional probability.\n"
      ]
    },
    {
      "cell_type": "code",
      "metadata": {
        "id": "s85fDoWXOORA",
        "colab": {
          "base_uri": "https://localhost:8080/"
        },
        "outputId": "44f9b6eb-56c1-4928-9d6a-e9e034785e4b"
      },
      "source": [
        "#By Bayesian Conditional Proabability we need to find P(B|D)\n",
        "\n",
        "prob_A = 0.40\n",
        "prob_B = 0.40\n",
        "prob_C = 0.20\n",
        "\n",
        "def_A = 0.015\n",
        "def_B = 0.020\n",
        "def_C = 0.010\n",
        "\n",
        "prob_def_B = (prob_B * def_B) / ((prob_A * def_A) + (prob_B * def_B) + (prob_C * def_C))\n",
        "prob_def_B"
      ],
      "execution_count": null,
      "outputs": [
        {
          "output_type": "execute_result",
          "data": {
            "text/plain": [
              "0.5"
            ]
          },
          "metadata": {
            "tags": []
          },
          "execution_count": 2
        }
      ]
    }
  ]
}