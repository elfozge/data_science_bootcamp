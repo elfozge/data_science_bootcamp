{
  "nbformat": 4,
  "nbformat_minor": 0,
  "metadata": {
    "kernelspec": {
      "display_name": "Python 3",
      "language": "python",
      "name": "python3"
    },
    "language_info": {
      "codemirror_mode": {
        "name": "ipython",
        "version": 3
      },
      "file_extension": ".py",
      "mimetype": "text/x-python",
      "name": "python",
      "nbconvert_exporter": "python",
      "pygments_lexer": "ipython3",
      "version": "3.8.2"
    },
    "colab": {
      "name": "ElifÖzgeOlgaç-Errors_Exceptions_Handling.ipynb adlı not defterinin kopyası",
      "provenance": [],
      "include_colab_link": true
    }
  },
  "cells": [
    {
      "cell_type": "markdown",
      "metadata": {
        "id": "view-in-github",
        "colab_type": "text"
      },
      "source": [
        "<a href=\"https://colab.research.google.com/github/elfozge/data_science_bootcamp/blob/main/Errors_Exceptions_Handling.ipynb\" target=\"_parent\"><img src=\"https://colab.research.google.com/assets/colab-badge.svg\" alt=\"Open In Colab\"/></a>"
      ]
    },
    {
      "cell_type": "markdown",
      "metadata": {
        "id": "sMKRKedm586s"
      },
      "source": [
        "**(1)** Let us define a division operation inside a function (using `def`) but to get an error, define the denominator as 0. So, type properly except statement."
      ]
    },
    {
      "cell_type": "code",
      "metadata": {
        "id": "ccNEjRAT5860",
        "colab": {
          "base_uri": "https://localhost:8080/"
        },
        "outputId": "9861d6df-c0a4-4ee9-a963-a26c5f736844"
      },
      "source": [
        "def division(x):\n",
        "      b=x/0\n",
        "try:\n",
        "    x=int(input(\"Enter a number: \")) \n",
        "    division(x)\n",
        "\n",
        "except ZeroDivisionError:\n",
        "    print(\"Please check denominator\")"
      ],
      "execution_count": null,
      "outputs": [
        {
          "output_type": "stream",
          "text": [
            "Enter a number: 5\n",
            "Please check denominator\n"
          ],
          "name": "stdout"
        }
      ]
    },
    {
      "cell_type": "markdown",
      "metadata": {
        "id": "0-ctKjmn5861"
      },
      "source": [
        "**(2)** It is possible to get multiple errors after the execution of one try block. So, please define an error-exception issue with `NameError`."
      ]
    },
    {
      "cell_type": "code",
      "metadata": {
        "id": "mN1F6kvK5861",
        "colab": {
          "base_uri": "https://localhost:8080/"
        },
        "outputId": "9b95df7a-a413-4bf3-cd16-5683ba269324"
      },
      "source": [
        "try:\n",
        "    print (x**x)\n",
        "    \n",
        "except NameError:\n",
        "    print(\"NameError occured. Some variable isn't defined.\")\n",
        "except ValueError:\n",
        "    print(\"Please enter a number only!\")"
      ],
      "execution_count": null,
      "outputs": [
        {
          "output_type": "stream",
          "text": [
            "NameError occured. Some variable isn't defined.\n"
          ],
          "name": "stdout"
        }
      ]
    },
    {
      "cell_type": "markdown",
      "metadata": {
        "id": "pTbr8vww5861"
      },
      "source": [
        "**(3)** Please define a function and with this function, generate a `ValueError` exception simply by entering a string instead of numerical value."
      ]
    },
    {
      "cell_type": "code",
      "metadata": {
        "id": "FVwHUBD75862",
        "colab": {
          "base_uri": "https://localhost:8080/"
        },
        "outputId": "2e3a5b0e-07b2-4313-b908-620fd1bea342"
      },
      "source": [
        "def square(a):\n",
        "    try:      \n",
        "        return (int(a)**2)\n",
        "    except ValueError:\n",
        "        print(\"Please enter a number only!!\")\n",
        "        \n",
        "square(a = input(\"Enter a number to take square: \"))"
      ],
      "execution_count": null,
      "outputs": [
        {
          "output_type": "stream",
          "text": [
            "Enter a number to take square: a\n",
            "Please enter a number only!!\n"
          ],
          "name": "stdout"
        }
      ]
    }
  ]
}