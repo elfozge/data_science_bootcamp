{
  "nbformat": 4,
  "nbformat_minor": 0,
  "metadata": {
    "kernelspec": {
      "display_name": "Python 3",
      "language": "python",
      "name": "python3"
    },
    "language_info": {
      "codemirror_mode": {
        "name": "ipython",
        "version": 3
      },
      "file_extension": ".py",
      "mimetype": "text/x-python",
      "name": "python",
      "nbconvert_exporter": "python",
      "pygments_lexer": "ipython3",
      "version": "3.8.2"
    },
    "colab": {
      "name": "Classes.ipynb",
      "provenance": [],
      "collapsed_sections": []
    }
  },
  "cells": [
    {
      "cell_type": "code",
      "metadata": {
        "id": "zswowLKolda_"
      },
      "source": [
        ""
      ],
      "execution_count": null,
      "outputs": []
    },
    {
      "cell_type": "markdown",
      "metadata": {
        "id": "772G88r5ldbI"
      },
      "source": [
        "In a retail application, many customers visit the retail outlet to purchase various items. The manager of the retail outlet now wants to keep track of all its items' and customers’ data. To achieve this purpose, please:\n",
        "\n",
        "**(1)** Define two classes named as `item` (with `item_name` and `price` attributes) and `customer` (with `customer_id`, `phone_number` attributes and `purchase` method). `purchase` method should calculate the total price with the given item name amount."
      ]
    },
    {
      "cell_type": "code",
      "metadata": {
        "id": "xmx9fN1VldbL"
      },
      "source": [
        "class item:\n",
        "  def __init__(self, item_name, price):\n",
        "        self.item_name = item_name\n",
        "        self.price = price\n",
        "\n",
        "class customer:\n",
        "  def __init__(self, customer_id, phone_number):\n",
        "        self.customer_id = customer_id\n",
        "        self.phone_number = phone_number\n",
        "  \n",
        "  def purchase(self,item_name, amount):\n",
        "        self.item_name = item_name\n",
        "        self.amount = amount\n",
        "        print(\"The total price of {} {} is {} $.\".format(amount, item.item_name, item.price * self.amount))"
      ],
      "execution_count": 1,
      "outputs": []
    },
    {
      "cell_type": "markdown",
      "metadata": {
        "id": "E99nFmqildbL"
      },
      "source": [
        "**(2)** Create an item."
      ]
    },
    {
      "cell_type": "code",
      "metadata": {
        "id": "wDiJLq6lldbM"
      },
      "source": [
        "item = item(\"Book\", 15)"
      ],
      "execution_count": 2,
      "outputs": []
    },
    {
      "cell_type": "markdown",
      "metadata": {
        "id": "QzNyBWVSldbM"
      },
      "source": [
        "**(3)** Create a customer with an arbitrary ID and number."
      ]
    },
    {
      "cell_type": "code",
      "metadata": {
        "id": "Xrx_BBXZldbN"
      },
      "source": [
        "customer = customer(1453, 5338789560)"
      ],
      "execution_count": 3,
      "outputs": []
    },
    {
      "cell_type": "markdown",
      "metadata": {
        "id": "a4_yOiWsldbN"
      },
      "source": [
        "**(4)** Make customers buy an item with an arbitrary amount and then print the total price."
      ]
    },
    {
      "cell_type": "code",
      "metadata": {
        "id": "MkrPRrkdldbO",
        "colab": {
          "base_uri": "https://localhost:8080/"
        },
        "outputId": "0a2e3f2f-d15b-4c96-d4fa-4385c8067be3"
      },
      "source": [
        "customer.purchase(\"Book\", 3)"
      ],
      "execution_count": 4,
      "outputs": [
        {
          "output_type": "stream",
          "text": [
            "The total price of 3 Book is 45 $.\n"
          ],
          "name": "stdout"
        }
      ]
    }
  ]
}