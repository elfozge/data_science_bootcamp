{
  "nbformat": 4,
  "nbformat_minor": 0,
  "metadata": {
    "kernelspec": {
      "display_name": "Python 3",
      "language": "python",
      "name": "python3"
    },
    "language_info": {
      "codemirror_mode": {
        "name": "ipython",
        "version": 3
      },
      "file_extension": ".py",
      "mimetype": "text/x-python",
      "name": "python",
      "nbconvert_exporter": "python",
      "pygments_lexer": "ipython3",
      "version": "3.8.2"
    },
    "colab": {
      "name": "ElifÖzgeOlgaç-ConditionalStatements.ipynb",
      "provenance": [],
      "include_colab_link": true
    }
  },
  "cells": [
    {
      "cell_type": "markdown",
      "metadata": {
        "id": "view-in-github",
        "colab_type": "text"
      },
      "source": [
        "<a href=\"https://colab.research.google.com/github/elfozge/data_science_bootcamp/blob/main/ConditionalStatements.ipynb\" target=\"_parent\"><img src=\"https://colab.research.google.com/assets/colab-badge.svg\" alt=\"Open In Colab\"/></a>"
      ]
    },
    {
      "cell_type": "markdown",
      "metadata": {
        "id": "mS6-ubtG0M6R"
      },
      "source": [
        "**(1)** Please get Celcius or Fahrenheit degrees from users and type a code to convert these heat units to each other.  \n",
        "    \n",
        "    For conversion, please use this formula: C = (5/9) * (F - 32)\n",
        "    \n",
        "        Example : \"40C\" --> \"104F\"\n",
        "                  \"52F\" --> \"11.1C\""
      ]
    },
    {
      "cell_type": "code",
      "metadata": {
        "id": "Xbl8BAEo0M6V"
      },
      "source": [
        ""
      ],
      "execution_count": null,
      "outputs": []
    },
    {
      "cell_type": "markdown",
      "metadata": {
        "id": "kPjHDI8a0M6W"
      },
      "source": [
        "**(2)** A company decided to give a bonus of 5% to the employees if his/her year of service is more than 5 years.\n",
        "Ask the user for their salary and year of service and print the net bonus amount."
      ]
    },
    {
      "cell_type": "code",
      "metadata": {
        "id": "peTqWTme0M6W",
        "colab": {
          "base_uri": "https://localhost:8080/"
        },
        "outputId": "7d05f8c6-ee97-42f2-9090-dd4a630ad3f7"
      },
      "source": [
        "employee_salary = float(input(\"Please enter your salary: \" ))\n",
        "employee_year = int(input(\"Please enter your year of service: \"))\n",
        "\n",
        "if( employee_year >5 ):\n",
        "    print(\"Your net bonus amount: \", employee_salary * 0.05)"
      ],
      "execution_count": null,
      "outputs": [
        {
          "output_type": "stream",
          "text": [
            "Please enter your salary: 10000\n",
            "Please enter your year of service: 6\n",
            "Your net bonus amount:  500.0\n"
          ],
          "name": "stdout"
        }
      ]
    },
    {
      "cell_type": "markdown",
      "metadata": {
        "id": "kW52-wT50M6W"
      },
      "source": [
        "**(3)** Take input of ages of 3 people by the user and determine the oldest and youngest among them."
      ]
    },
    {
      "cell_type": "code",
      "metadata": {
        "id": "VY_9TWJQ0M6X",
        "colab": {
          "base_uri": "https://localhost:8080/"
        },
        "outputId": "17f9543d-9455-4387-fbfa-6264342e7503"
      },
      "source": [
        "age1 = int(input(\"Enter your age: \"))\n",
        "age2 = int(input(\"Enter your age: \"))\n",
        "age3 = int(input(\"Enter your age: \"))\n",
        "\n",
        "if (age1 > age2 and age1 > age3):\n",
        "    if (age2 > age3):\n",
        "        print(\"The oldest age is\", age1, \"and lowest one is\", age3 )\n",
        "    else:\n",
        "        print (\"The oldest age is\", age1, \"and lowest one is\", age2 )\n",
        "                \n",
        "elif (age2 > age1 and age2 > age3):\n",
        "    if (age1 > age3):\n",
        "        print(\"The oldest age is\", age2, \"and lowest one is\", age3 )\n",
        "    else:\n",
        "        print (\"The oldest age is\", age2, \"and lowest one is\", age1 )\n",
        "    \n",
        "else:\n",
        "    if (age1 > age2):\n",
        "        print(\"The oldest age is\", age3 , \"and lowest one is\", age2)\n",
        "    else:\n",
        "        print(\"The oldest age is\", age3 , \"and lowest one is\", age1)"
      ],
      "execution_count": null,
      "outputs": [
        {
          "output_type": "stream",
          "text": [
            "Enter your age: 25\n",
            "Enter your age: 34\n",
            "Enter your age: 19\n",
            "The oldest age is 34 and lowest one is 19\n"
          ],
          "name": "stdout"
        }
      ]
    },
    {
      "cell_type": "markdown",
      "metadata": {
        "id": "2nbuzkJ10M6X"
      },
      "source": [
        "**(4)** A student will not be allowed to attend to the exam if his / her attendance to classes is less than 75%. Take followings input from the user:\n",
        "- Number of classes held,\n",
        "- Number of classes attended.\n",
        "   \n",
        "    Then, print the percentage of classes attended and whether the student is allowed to attend in an exam or not."
      ]
    },
    {
      "cell_type": "code",
      "metadata": {
        "id": "LxvYEohD0M6X",
        "colab": {
          "base_uri": "https://localhost:8080/"
        },
        "outputId": "2c92a8cb-75a4-4f16-96bf-86f312c5a5e9"
      },
      "source": [
        "no_classes = int(input(\"Please enter number of classes held: \"))\n",
        "no_attended = int(input(\"Please enter number of classes attended: \"))\n",
        "\n",
        "attendance_needed = no_classes * 0.75\n",
        "\n",
        "if (no_attended >= attendance_needed ):\n",
        "    print(\"You can take the exam.\")\n",
        "else:\n",
        "    print(\"You are not allowed to take the exam.\")"
      ],
      "execution_count": null,
      "outputs": [
        {
          "output_type": "stream",
          "text": [
            "Please enter number of classes held: 20\n",
            "Please enter number of classes attended: 14\n",
            "You are not allowed to take the exam.\n"
          ],
          "name": "stdout"
        }
      ]
    },
    {
      "cell_type": "markdown",
      "metadata": {
        "id": "vBOuN5Tn0M6X"
      },
      "source": [
        "**(5)** In this exercise, you will create a program that reads a letter of the alphabet from the user. According to the answer:\n",
        "\n",
        "- If the user enters `a, e, i, o, u`, then your program should display a message indicating that the entered letter is a vowel.\n",
        "- If the user enters `y`, then your program should display a message indicating that y is sometimes a vowel and sometimes a consonant.\n",
        "- Otherwise, your program should display a message indicating that the letter is a consonant."
      ]
    },
    {
      "cell_type": "code",
      "metadata": {
        "id": "o0flzU_j0M6Y",
        "colab": {
          "base_uri": "https://localhost:8080/"
        },
        "outputId": "c0d49aa2-5efd-4a59-a864-aa346f7c7e1c"
      },
      "source": [
        "letter = input(\"Enter a letter from alphabet: \")\n",
        "alphabet = ['a','b','c','d','e','f','g','h','i','j','k','l','m','n','o','p','q','r','s','t','u','v','w','x','y','z']\n",
        "\n",
        "if letter in ['a', 'e', 'i', 'o', 'u']:\n",
        "#if (letter == 'a' or letter =='e' or letter =='i' or letter =='o' or letter =='u'): \n",
        "    print(\"The letter you entered is vowel.\")\n",
        "    \n",
        "elif(letter == 'y'):\n",
        "    print(\"y is sometimes a vowel and sometimes a consonant.\")\n",
        "\n",
        "elif(letter not in alphabet):\n",
        "    print(\"Please enter the letter!\")\n",
        "    \n",
        "else:\n",
        "    print(\"The letter you entered is consonant.\")"
      ],
      "execution_count": 1,
      "outputs": [
        {
          "output_type": "stream",
          "text": [
            "Enter a letter from alphabet: a\n",
            "The letter you entered is vowel.\n"
          ],
          "name": "stdout"
        }
      ]
    }
  ]
}