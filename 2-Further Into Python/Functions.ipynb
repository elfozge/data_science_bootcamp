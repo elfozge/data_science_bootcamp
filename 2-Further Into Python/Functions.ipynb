{
  "nbformat": 4,
  "nbformat_minor": 0,
  "metadata": {
    "kernelspec": {
      "display_name": "Python 3",
      "language": "python",
      "name": "python3"
    },
    "language_info": {
      "codemirror_mode": {
        "name": "ipython",
        "version": 3
      },
      "file_extension": ".py",
      "mimetype": "text/x-python",
      "name": "python",
      "nbconvert_exporter": "python",
      "pygments_lexer": "ipython3",
      "version": "3.8.2"
    },
    "colab": {
      "name": "Functions.ipynb",
      "provenance": [],
      "collapsed_sections": []
    }
  },
  "cells": [
    {
      "cell_type": "markdown",
      "metadata": {
        "id": "8RoG-qzm4rcr"
      },
      "source": [
        "**(1)** A prime number is an integer greater than one that is only divisible by one and itself. Write a function that determines whether or not its parameter is prime, returns `True` if it is and `False` otherwise. Write a main program that reads an integer from the user and displays a message indicating whether or not it is prime. Ensure that the main program does not run if the file containing your solution is imported into another program."
      ]
    },
    {
      "cell_type": "code",
      "metadata": {
        "id": "0uqMgNwpP5IA",
        "colab": {
          "base_uri": "https://localhost:8080/"
        },
        "outputId": "02237011-1894-4990-9b08-69f9becb7464"
      },
      "source": [
        "def prime(number):\n",
        "  cond = False\n",
        "  if number > 1:\n",
        "    for i in range(2, number):\n",
        "      if (number % i) == 0:\n",
        "        cond = True\n",
        "    return cond\n",
        "\n",
        "number = int(input(\"Enter an integer: \"))\n",
        "\n",
        "if prime(number):\n",
        "    print(number, \"is not a prime number\")\n",
        "else:\n",
        "    print(number, \"is a prime number\")"
      ],
      "execution_count": null,
      "outputs": [
        {
          "output_type": "stream",
          "text": [
            "Enter an integer: 7\n",
            "7 is a prime number\n"
          ],
          "name": "stdout"
        }
      ]
    },
    {
      "cell_type": "markdown",
      "metadata": {
        "id": "a_TYR4Vp4rcx"
      },
      "source": [
        "**(2)** Please write a function that passes each element of a list only once to a new list. We usually do this with the `set()` command, but let us not use this command this time.\n",
        "\n",
        "    Example:\n",
        "    \n",
        "        unique_list([1,2,2,3,3,4,4]) = [1,2,3,4]"
      ]
    },
    {
      "cell_type": "code",
      "metadata": {
        "id": "ig1EfV8R4rcx",
        "colab": {
          "base_uri": "https://localhost:8080/"
        },
        "outputId": "17de7548-70cd-4aea-d656-88eea1b7b3fc"
      },
      "source": [
        "def unique_list(list):\n",
        "  newlist = [] #create empty list\n",
        "  for i in list:\n",
        "    if i not in newlist:\n",
        "      newlist.append(i) #add unique values to newlist \n",
        "  return newlist\n",
        "\n",
        "print(unique_list([1,2,2,3,3,4,4]))"
      ],
      "execution_count": null,
      "outputs": [
        {
          "output_type": "stream",
          "text": [
            "[1, 2, 3, 4]\n"
          ],
          "name": "stdout"
        }
      ]
    },
    {
      "cell_type": "markdown",
      "metadata": {
        "id": "XSVJPubw4rcx"
      },
      "source": [
        "**(3)** There are many built-in modules in Python. By importing one of the modules on time, write a function that takes the date of birth as a parameter and returns the age."
      ]
    },
    {
      "cell_type": "code",
      "metadata": {
        "id": "t8B68mKf4rcy",
        "colab": {
          "base_uri": "https://localhost:8080/"
        },
        "outputId": "f90cf12f-9a67-4f13-e93a-033456a5b2fd"
      },
      "source": [
        " from datetime import date, time, datetime\n",
        "\n",
        "def age(birthday):\n",
        "    today = date.today()\n",
        "    age = today.year - birthday.year - ((today.month, today.day) < (birthday.month, birthday.day))\n",
        "  \n",
        "    return age\n",
        "      \n",
        "print(age(date(1996, 7, 7)), \"years.\")"
      ],
      "execution_count": null,
      "outputs": [
        {
          "output_type": "stream",
          "text": [
            "24 years.\n"
          ],
          "name": "stdout"
        }
      ]
    },
    {
      "cell_type": "markdown",
      "metadata": {
        "id": "xUweL0WO4rcy"
      },
      "source": [
        "**(4)** Get a number from the user and calculate the factorial of it by using a function."
      ]
    },
    {
      "cell_type": "code",
      "metadata": {
        "id": "96a2rEBe4rcy",
        "colab": {
          "base_uri": "https://localhost:8080/"
        },
        "outputId": "e990cfaf-c173-4e46-c80b-2efe4fe5c414"
      },
      "source": [
        "def factorial(number):\n",
        "    factorial = 1\n",
        "    if number > 0:   \n",
        "      for i in range(1,number+1):  \n",
        "        factorial *= i\n",
        "      print(\"Factorial of {} is {}.\".format(number,factorial))\n",
        "    elif number < 0:\n",
        "      print(\"Sorry, factorial does not exist for negative numbers.\")\n",
        "    else:\n",
        "       print(\"The factorial of 0 is 1.\")\n",
        "    \n",
        "number = int(input(\"Enter a number: \"))\n",
        "factorial(number)"
      ],
      "execution_count": null,
      "outputs": [
        {
          "output_type": "stream",
          "text": [
            "Enter a number: 5\n",
            "Factorial of 5 is 120.\n"
          ],
          "name": "stdout"
        }
      ]
    },
    {
      "cell_type": "markdown",
      "metadata": {
        "id": "pq2kGBLk4rcy"
      },
      "source": [
        "**(5)** Write a function named `perfect()` that determines if the parameter number is a perfect number. Use this function in a program that determines and prints all the perfect numbers between 1 and 1000.\n",
        "\n",
        "    An integer number is said to be a `perfect number` if its factors (including 1, but not the number itself) sum to the number. \n",
        "\n",
        "        E.g.: 6 is a perfect number because 6 = 1 + 2 + 3."
      ]
    },
    {
      "cell_type": "code",
      "metadata": {
        "id": "5INP2y-qZ4px",
        "colab": {
          "base_uri": "https://localhost:8080/"
        },
        "outputId": "90aafe20-a64e-4c43-ed8d-e0f4e85a7533"
      },
      "source": [
        "def perfect(number):\n",
        "  if number < 1:\n",
        "    return False\n",
        "  sum = 0\n",
        "  for i in range(1,number):\n",
        "    if number%i==0:\n",
        "      sum += i\n",
        "  return sum == number\n",
        "\n",
        "for i in range(1,1001):\n",
        "    if perfect(i):\n",
        "      print(i, \"is perfect numbers between 1 to 1000.\")\n"
      ],
      "execution_count": null,
      "outputs": [
        {
          "output_type": "stream",
          "text": [
            "6 is perfect numbers between 1 to 1000.\n",
            "28 is perfect numbers between 1 to 1000.\n",
            "496 is perfect numbers between 1 to 1000.\n"
          ],
          "name": "stdout"
        }
      ]
    },
    {
      "cell_type": "markdown",
      "metadata": {
        "id": "HkB1UigB4rcz"
      },
      "source": [
        "**(6)** Write a Python function that prints out the first n rows of [Pascal's triangle](https://en.wikipedia.org/wiki/Pascal%27s_triangle). \n",
        "\n",
        "<div style=\"text-align:center;\">\n",
        "    <img src=\"https://bootrain-lms-assets.s3.eu-central-1.amazonaws.com/bootrain-lms-static/images/02_IntermediatePython/03_PascalsTriangle.gif\" width=\"200\">\n",
        "    <br>\n",
        "    In Pascal's triangle, each number is the sum of the two numbers directly above it.\n",
        "</div>"
      ]
    },
    {
      "cell_type": "code",
      "metadata": {
        "id": "y6-5ERZj4g28"
      },
      "source": [
        ""
      ],
      "execution_count": null,
      "outputs": []
    }
  ]
}