{
  "nbformat": 4,
  "nbformat_minor": 0,
  "metadata": {
    "kernelspec": {
      "display_name": "Python 3",
      "language": "python",
      "name": "python3"
    },
    "language_info": {
      "codemirror_mode": {
        "name": "ipython",
        "version": 3
      },
      "file_extension": ".py",
      "mimetype": "text/x-python",
      "name": "python",
      "nbconvert_exporter": "python",
      "pygments_lexer": "ipython3",
      "version": "3.8.7"
    },
    "colab": {
      "name": "ElifÖzgeOlgaç-Tuples_Set.ipynb",
      "provenance": [],
      "include_colab_link": true
    }
  },
  "cells": [
    {
      "cell_type": "markdown",
      "metadata": {
        "id": "view-in-github",
        "colab_type": "text"
      },
      "source": [
        "<a href=\"https://colab.research.google.com/github/elfozge/data_science_bootcamp/blob/main/Tuples_Set.ipynb\" target=\"_parent\"><img src=\"https://colab.research.google.com/assets/colab-badge.svg\" alt=\"Open In Colab\"/></a>"
      ]
    },
    {
      "cell_type": "markdown",
      "metadata": {
        "id": "-wMjJMAbUKGu"
      },
      "source": [
        "**(1)** Create a tuple named \"week\" containing weekdays."
      ]
    },
    {
      "cell_type": "code",
      "metadata": {
        "id": "smabQMLTUKG1"
      },
      "source": [
        "week = ('Monday', 'Tuesday', 'Wednesday', 'Thursday', 'Friday')"
      ],
      "execution_count": null,
      "outputs": []
    },
    {
      "cell_type": "markdown",
      "metadata": {
        "id": "o9xJgwX6UKG2"
      },
      "source": [
        "**(2)** Create a set named \"fruits\" containing followings: apple, mango, orange "
      ]
    },
    {
      "cell_type": "code",
      "metadata": {
        "id": "LhFktTkyUKG3"
      },
      "source": [
        "fruits = { \"apple\", \"mango\", \"orange\"}"
      ],
      "execution_count": null,
      "outputs": []
    },
    {
      "cell_type": "markdown",
      "metadata": {
        "id": "6t9PkpQjUKG3"
      },
      "source": [
        "**(3)** Create a new set named \"new_fruits\" containing followings: cherry, peach, apple, mango"
      ]
    },
    {
      "cell_type": "code",
      "metadata": {
        "id": "mRf1qJttUKG4"
      },
      "source": [
        "new_fruits = {\"cherry\", \"peach\", \"apple\", \"mango\"}"
      ],
      "execution_count": null,
      "outputs": []
    },
    {
      "cell_type": "markdown",
      "metadata": {
        "id": "RMg0LX6eUKG4"
      },
      "source": [
        "**(4)** Find the fruits which are in new_fruits but not in fruits."
      ]
    },
    {
      "cell_type": "code",
      "metadata": {
        "id": "qMDsVjTHUKG4",
        "colab": {
          "base_uri": "https://localhost:8080/"
        },
        "outputId": "46a69104-f8b9-40ba-c6fd-8cbf543ba9b0"
      },
      "source": [
        "print(\"Only in new fruits {}\".format(new_fruits.difference(fruits)))"
      ],
      "execution_count": null,
      "outputs": [
        {
          "output_type": "stream",
          "text": [
            "Only in new fruits {'cherry', 'peach'}\n"
          ],
          "name": "stdout"
        }
      ]
    },
    {
      "cell_type": "markdown",
      "metadata": {
        "id": "g5FxgXeWUKG6"
      },
      "source": [
        "**(5)** Find the fruits which are in both new_fruits and fruits."
      ]
    },
    {
      "cell_type": "code",
      "metadata": {
        "id": "vR2HO7_7UKG6",
        "colab": {
          "base_uri": "https://localhost:8080/"
        },
        "outputId": "50cb24d4-b1b8-49ab-d6fc-a3ae81fe9b5c"
      },
      "source": [
        "print(\"Both in new fruits and fruits {}\".format(new_fruits.intersection(fruits)))"
      ],
      "execution_count": null,
      "outputs": [
        {
          "output_type": "stream",
          "text": [
            "Both in new fruits and fruits {'mango', 'apple'}\n"
          ],
          "name": "stdout"
        }
      ]
    }
  ]
}