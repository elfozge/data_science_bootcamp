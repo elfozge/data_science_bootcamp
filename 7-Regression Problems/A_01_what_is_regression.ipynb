{
  "nbformat": 4,
  "nbformat_minor": 0,
  "metadata": {
    "kernelspec": {
      "display_name": "Python 3",
      "language": "python",
      "name": "python3"
    },
    "language_info": {
      "codemirror_mode": {
        "name": "ipython",
        "version": 3
      },
      "file_extension": ".py",
      "mimetype": "text/x-python",
      "name": "python",
      "nbconvert_exporter": "python",
      "pygments_lexer": "ipython3",
      "version": "3.8.7"
    },
    "colab": {
      "name": "A_01_what_is_regression.ipynb",
      "provenance": [],
      "collapsed_sections": []
    }
  },
  "cells": [
    {
      "cell_type": "markdown",
      "metadata": {
        "id": "g1-JFCHjA5FG"
      },
      "source": [
        "# <font color=blue>Assignments for \"What is Regression\"</font>"
      ]
    },
    {
      "cell_type": "markdown",
      "metadata": {
        "id": "pvZrd95-A5FJ"
      },
      "source": [
        "**(1)** Let's assume that you have World Bank data on financial, economic and social indicators for several countries. You want to measure the factors that affect the level of development in these countries. To this end, you decide to use per capita income as a proxy for the development level, which is defined as the national income divided by the population. You want to use some features in your dataset to predict per capita income. Is this task a classification or a regression task? Why? "
      ]
    },
    {
      "cell_type": "markdown",
      "metadata": {
        "id": "Pdfsjn2PHkxz"
      },
      "source": [
        "This is a regression task because our target variable has continuous values and we try to predict numerical values from infinitely many of them.\n"
      ]
    },
    {
      "cell_type": "markdown",
      "metadata": {
        "id": "0GGUEw2fA5FK"
      },
      "source": [
        "**(2)** Which of the following arguments are false and why?<br>\n",
        "    1 - OLS is a special type of linear regression models. <br>\n",
        "    2 - Regression models become useless if they don’t meet the assumptions of linear regression. <br>\n",
        "    3 - Estimation and prediction are the same thing in the context of linear regression models.<br>\n",
        "    4 - Linear regression model is only one kind of regression models. Regression problems can also be solved with other kind of models like Support Vector Machines or Random Forests."
      ]
    },
    {
      "cell_type": "markdown",
      "metadata": {
        "id": "QLtnn6e9Ifz0"
      },
      "source": [
        "1- FALSE, OLS is an algorithm for the linear regression models.<br>\n",
        "2- TRUE <br>\n",
        "3- FALSE, Estimation is the process of optimizing parameters for the best model, whereas prediction is related to outcome values for the observations that have not been previously observed. <br>\n",
        "4- TRUE"
      ]
    },
    {
      "cell_type": "markdown",
      "metadata": {
        "id": "WkAFEKvEA5FL"
      },
      "source": [
        "**(3)** Assume that your project manager wants you to discover which free services your company offers make your customers buy more of your paid services. Formulate this task as a regression problem and write down the potential outcome and features that you’d like to work on."
      ]
    },
    {
      "cell_type": "markdown",
      "metadata": {
        "id": "OCyBBIklOHqS"
      },
      "source": [
        "Since we try to predict numerical values or buying rating we work on regression. Our potential outcoma is to increase number of customers which buy more of paid services and also our features may be customer age, gender and region, time of the discount or new opportunities, percentage of discount, customer loyalty (since when customers)."
      ]
    }
  ]
}