{
 "cells": [
  {
   "cell_type": "markdown",
   "metadata": {},
   "source": [
    "<b>(1)</b> What is the purpose the data exploration?"
   ]
  },
  {
   "cell_type": "markdown",
   "metadata": {},
   "source": [
    "- Researching data by using statistics and visualization techniques  to understand relationship between different features and patterns in data is the purpose of the data exploration."
   ]
  },
  {
   "cell_type": "markdown",
   "metadata": {},
   "source": [
    "<b>(2)</b> Suppose you are working on a dataset containing customer reviews of an e-commerce company's products. Customer reviews collected through the company's website are rated between 1 and 5 depending on whether the content is positive or negative.\n",
    "<br>\n",
    "- What kind of problems do you expect to encounter in this raw data?<br>\n",
    "- If your task is to identify the characteristics that reveal that the customers' comments are positive or negative, how would you do that and what methods would you use for this?<br>\n",
    "- What are the useful features that can be extracted from raw data? How can you access this data and understand whether it is useful?"
   ]
  },
  {
   "cell_type": "markdown",
   "metadata": {},
   "source": [
    "- Some part of the dataset can be empty or we can see the rated number greater than 5.\n",
    "- First we examine the all features of dataset. Then we need to determine which one is related or not. Finally we try to find relationship between related features and rate feture by using statistics and visualization tools.\n",
    "- As I told you previous statement, we will analyze the data with all aspects, informations, features, numerical values, empty rows and fill them. Then we'll look the relations between features and rate numbers. If we can find that these fetures we used affects rating values, then these are useful."
   ]
  },
  {
   "cell_type": "markdown",
   "metadata": {},
   "source": [
    "<b>(3)</b> Why do you think missing values should be taking care of?"
   ]
  },
  {
   "cell_type": "markdown",
   "metadata": {},
   "source": [
    "- Missing values can change our results about data. Also we can say this firm have problem or not from type and number of missing values."
   ]
  },
  {
   "cell_type": "markdown",
   "metadata": {},
   "source": [
    "<b>(4)</b> Do you think that outliers have an impact on a dataset? If so, how would you explain this impact?"
   ]
  },
  {
   "cell_type": "markdown",
   "metadata": {},
   "source": [
    "- If the number of outliers are more than enough we need to determine that reason. For example, in the bank one of the customer deposits money to bank account every month, but you realize after some months he/she deposit more money from his/her total money. When you analyze the bank account, we can find some illegal issues."
   ]
  },
  {
   "cell_type": "markdown",
   "metadata": {},
   "source": [
    "<b>(5)</b> Please briefly summarize you first actions when you start analyzing the data?"
   ]
  },
  {
   "cell_type": "markdown",
   "metadata": {},
   "source": [
    "- First I need to analyze my dataset and specify the problem/target. I'll look at the features, feature types, missing values if any. Then I need to work with missing values e.g. may be fill them or drop. And then I will examine outliers and find a way to get rid of  or reduce their effects. Finally I can study with statistical values and visualization of relations between features."
   ]
  }
 ],
 "metadata": {
  "kernelspec": {
   "display_name": "Python 3",
   "language": "python",
   "name": "python3"
  },
  "language_info": {
   "codemirror_mode": {
    "name": "ipython",
    "version": 3
   },
   "file_extension": ".py",
   "mimetype": "text/x-python",
   "name": "python",
   "nbconvert_exporter": "python",
   "pygments_lexer": "ipython3",
   "version": "3.8.5"
  }
 },
 "nbformat": 4,
 "nbformat_minor": 4
}
