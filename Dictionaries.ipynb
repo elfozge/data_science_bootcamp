{
  "nbformat": 4,
  "nbformat_minor": 0,
  "metadata": {
    "kernelspec": {
      "display_name": "Python 3",
      "language": "python",
      "name": "python3"
    },
    "language_info": {
      "codemirror_mode": {
        "name": "ipython",
        "version": 3
      },
      "file_extension": ".py",
      "mimetype": "text/x-python",
      "name": "python",
      "nbconvert_exporter": "python",
      "pygments_lexer": "ipython3",
      "version": "3.8.7"
    },
    "colab": {
      "name": "ElifÖzgeOlgaç-Dictionaries.ipynb ",
      "provenance": [],
      "include_colab_link": true
    }
  },
  "cells": [
    {
      "cell_type": "markdown",
      "metadata": {
        "id": "view-in-github",
        "colab_type": "text"
      },
      "source": [
        "<a href=\"https://colab.research.google.com/github/elfozge/data_science_bootcamp/blob/main/Dictionaries.ipynb\" target=\"_parent\"><img src=\"https://colab.research.google.com/assets/colab-badge.svg\" alt=\"Open In Colab\"/></a>"
      ]
    },
    {
      "cell_type": "markdown",
      "metadata": {
        "id": "G-dc3Rss-cOv"
      },
      "source": [
        "**(1)** Create a dictionary with 7 days. Ask the user to choose 2 different days by listing the (e.g. \"12\" for Monday and Tuesday). Delete the user-selected days from the dictionary and print the remaining 5 days on the screen.<br><br>"
      ]
    },
    {
      "cell_type": "code",
      "metadata": {
        "id": "R-fRlCVk-cOv",
        "colab": {
          "base_uri": "https://localhost:8080/"
        },
        "outputId": "d54d3e2b-d0b5-46c4-b059-84c4b2906731"
      },
      "source": [
        "days = {1: 'Monday',2: 'Tuesday',\n",
        "        3: 'Wednesday',\n",
        "        4: 'Thursday',\n",
        "        5: 'Friday',\n",
        "        6: 'Saturday',\n",
        "        7: 'Sunday'}\n",
        "#Days.pop(int(input(\"Write two days to delete (e.g. 25 ): \"))) First I wrote this but not working it take just one input\n",
        "#print(Days)\n",
        "\n",
        "days_to_delete = input('Write two days to delete (e.g. \"25\" ):')\n",
        "del days[int(days_to_delete[0])]\n",
        "del days[int(days_to_delete[1])]\n",
        "print(days)"
      ],
      "execution_count": 3,
      "outputs": [
        {
          "output_type": "stream",
          "text": [
            "Write two days to delete (e.g. \"25\" ):25\n",
            "{1: 'Monday', 3: 'Wednesday', 4: 'Thursday', 6: 'Saturday', 7: 'Sunday'}\n"
          ],
          "name": "stdout"
        }
      ]
    },
    {
      "cell_type": "markdown",
      "metadata": {
        "id": "7YruQj1L-cOw"
      },
      "source": [
        "**(2)**  Create a dictionary with the following personnel. Use names as keys.\n",
        "\n",
        "|Name|Age|Sex|\n",
        "|-|-|-|\n",
        "|John|25|Male|\n",
        "|Lisa|28|Female|\n",
        "|Linda|32|Female|\n",
        "|Michael|41|Male|"
      ]
    },
    {
      "cell_type": "code",
      "metadata": {
        "id": "pbuXwn2W-cO1",
        "colab": {
          "base_uri": "https://localhost:8080/"
        },
        "outputId": "7d8ef554-c32c-472a-b079-461435b3ac73"
      },
      "source": [
        "personnel = {'John': {'age': 25, 'Sex': 'Male'},\n",
        "             'Lisa': {'age': 28, 'Sex': 'Female'},\n",
        "             'Linda': {'age': 32, 'Sex': 'Female'},\n",
        "             'Michael': {'age': 41, 'Sex': 'Male'}}\n",
        "print(personnel)"
      ],
      "execution_count": null,
      "outputs": [
        {
          "output_type": "stream",
          "text": [
            "{'John': {'age': 25, 'Sex': 'Male'}, 'Lisa': {'age': 28, 'Sex': 'Female'}, 'Linda': {'age': 32, 'Sex': 'Female'}, 'Michael': {'age': 41, 'Sex': 'Male'}}\n"
          ],
          "name": "stdout"
        }
      ]
    },
    {
      "cell_type": "markdown",
      "metadata": {
        "id": "O4w6rGz3-cO4"
      },
      "source": [
        "**(3)** Add child information to Michael and Linda. Michael has two children (Karen (age : 12, female) and Greg (age : 7, male) and Linda has one child (Susan (age: 6, female))"
      ]
    },
    {
      "cell_type": "code",
      "metadata": {
        "id": "g2o6TR1H-cO4",
        "colab": {
          "base_uri": "https://localhost:8080/"
        },
        "outputId": "02aae0e4-88c6-44cb-8259-3c91baeda1d9"
      },
      "source": [
        "personnel['Michael'].update({'child':{'Karen':{'age': 12, 'Sex': 'Female'},'Greg':{'age': 7, 'Sex': 'Male'}}})\n",
        "personnel['Linda'].update({'child': {'Susan':{'age': 6, 'Sex': 'Female' }}})\n",
        "print(personnel)"
      ],
      "execution_count": null,
      "outputs": [
        {
          "output_type": "stream",
          "text": [
            "{'John': {'age': 25, 'Sex': 'Male'}, 'Lisa': {'age': 28, 'Sex': 'Female'}, 'Linda': {'age': 32, 'Sex': 'Female', 'child': {'Susan': {'age': 6, 'Sex': 'Female'}}}, 'Michael': {'age': 41, 'Sex': 'Male', 'child': {'Karen': {'age': 12, 'Sex': 'Female'}, 'Greg': {'age': 7, 'Sex': 'Male'}}}}\n"
          ],
          "name": "stdout"
        }
      ]
    },
    {
      "cell_type": "markdown",
      "metadata": {
        "id": "GHmgjKU7-cO4"
      },
      "source": [
        "**(4)** Print the names of Michael's children in a list."
      ]
    },
    {
      "cell_type": "code",
      "metadata": {
        "id": "gowZJEm8-cO4",
        "colab": {
          "base_uri": "https://localhost:8080/"
        },
        "outputId": "9b3500ac-5260-42c3-de2a-4dcfe6bd357f"
      },
      "source": [
        "print(list(personnel['Michael']['child']))"
      ],
      "execution_count": null,
      "outputs": [
        {
          "output_type": "stream",
          "text": [
            "['Karen', 'Greg']\n"
          ],
          "name": "stdout"
        }
      ]
    }
  ]
}