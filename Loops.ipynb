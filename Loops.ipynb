{
  "nbformat": 4,
  "nbformat_minor": 0,
  "metadata": {
    "kernelspec": {
      "display_name": "Python 3",
      "language": "python",
      "name": "python3"
    },
    "language_info": {
      "codemirror_mode": {
        "name": "ipython",
        "version": 3
      },
      "file_extension": ".py",
      "mimetype": "text/x-python",
      "name": "python",
      "nbconvert_exporter": "python",
      "pygments_lexer": "ipython3",
      "version": "3.8.2"
    },
    "colab": {
      "name": "ElifÖzgeOlgaç-Loops.ipynb ",
      "provenance": [],
      "include_colab_link": true
    }
  },
  "cells": [
    {
      "cell_type": "markdown",
      "metadata": {
        "id": "view-in-github",
        "colab_type": "text"
      },
      "source": [
        "<a href=\"https://colab.research.google.com/github/elfozge/data_science_bootcamp/blob/main/Loops.ipynb\" target=\"_parent\"><img src=\"https://colab.research.google.com/assets/colab-badge.svg\" alt=\"Open In Colab\"/></a>"
      ]
    },
    {
      "cell_type": "markdown",
      "metadata": {
        "id": "QVVEUlTnnLYy"
      },
      "source": [
        "**(1)** Please form a multiplication table from user input.\n",
        "\n",
        "    Example :\n",
        "\n",
        "        Enter a number : 6\n",
        "        6 x 1 = 6                                                               \n",
        "        6 x 2 = 12                                                              \n",
        "        6 x 3 = 18                                                              \n",
        "        6 x 4 = 24                                                              \n",
        "        6 x 5 = 30                                                              \n",
        "        6 x 6 = 36                                                              \n",
        "        6 x 7 = 42                                                              \n",
        "        6 x 8 = 48                                                              \n",
        "        6 x 9 = 54                                                              \n",
        "        6 x 10 = 60 "
      ]
    },
    {
      "cell_type": "code",
      "metadata": {
        "id": "49uTSij9nLY5",
        "colab": {
          "base_uri": "https://localhost:8080/"
        },
        "outputId": "8b1ca8d8-a31e-4ee2-be64-4698bfaba80a"
      },
      "source": [
        "number = int(input(\"Enter a number: \"))\n",
        "\n",
        "for i in range(1,11):\n",
        "    print(\"{} x {} =\".format(number,i), number*i)"
      ],
      "execution_count": null,
      "outputs": [
        {
          "output_type": "stream",
          "text": [
            "Enter a number: 6\n",
            "6 x 1 = 6\n",
            "6 x 2 = 12\n",
            "6 x 3 = 18\n",
            "6 x 4 = 24\n",
            "6 x 5 = 30\n",
            "6 x 6 = 36\n",
            "6 x 7 = 42\n",
            "6 x 8 = 48\n",
            "6 x 9 = 54\n",
            "6 x 10 = 60\n"
          ],
          "name": "stdout"
        }
      ]
    },
    {
      "cell_type": "markdown",
      "metadata": {
        "id": "MNzZMIWEnLY6"
      },
      "source": [
        "**(2)** Simply by using list compherension, form a list by taking square of odds numbers and by calculating cube of even numbers from 1 to 20."
      ]
    },
    {
      "cell_type": "code",
      "metadata": {
        "id": "6JGKnfb3nLY6",
        "colab": {
          "base_uri": "https://localhost:8080/"
        },
        "outputId": "03193324-c374-4605-f090-3a3a1b1c167e"
      },
      "source": [
        "square_oddnumbers = []\n",
        "cube_evennumbers = []\n",
        "numbers = list(range(1,21))\n",
        "\n",
        "for i in numbers:\n",
        "        if i%2==0:\n",
        "            cube_evennumbers.append(i**3)        \n",
        "        else:\n",
        "            square_oddnumbers.append(i**2)\n",
        "            \n",
        "print(\"Cube of even numbers: \", cube_evennumbers)\n",
        "print(\"Square of odd numbers: \", square_oddnumbers)"
      ],
      "execution_count": null,
      "outputs": [
        {
          "output_type": "stream",
          "text": [
            "Cube of even numbers:  [8, 64, 216, 512, 1000, 1728, 2744, 4096, 5832, 8000]\n",
            "Square of odd numbers:  [1, 9, 25, 49, 81, 121, 169, 225, 289, 361]\n"
          ],
          "name": "stdout"
        }
      ]
    },
    {
      "cell_type": "markdown",
      "metadata": {
        "id": "5-dshsqXnLY6"
      },
      "source": [
        "**(3)** Please type a code that inverts the initial user input.\n",
        "\n",
        "    Example : \"automobile\" --> \"elibomotua\""
      ]
    },
    {
      "cell_type": "code",
      "metadata": {
        "id": "x0_MbXI4nLY7"
      },
      "source": [
        ""
      ],
      "execution_count": null,
      "outputs": []
    },
    {
      "cell_type": "markdown",
      "metadata": {
        "id": "xrdCmB6inLY7"
      },
      "source": [
        "**(4)** Using `range(1, 201)`, make two lists. One is containing all even numbers and the other containing all odd numbers."
      ]
    },
    {
      "cell_type": "code",
      "metadata": {
        "id": "YXdg0qaKnLY8",
        "colab": {
          "base_uri": "https://localhost:8080/"
        },
        "outputId": "f691f421-1c92-4ca9-f79c-41fe849003b9"
      },
      "source": [
        "odd_numbers = []\n",
        "even_numbers = []\n",
        "numbers = list(range(1,201))\n",
        "\n",
        "for i in numbers:\n",
        "        if i%2==0:\n",
        "            even_numbers.append(i)        \n",
        "        else:\n",
        "            odd_numbers.append(i)\n",
        "            \n",
        "print(\"All even numbers: \",even_numbers,'\\n')\n",
        "print(\"All odd numbers: \",odd_numbers)"
      ],
      "execution_count": null,
      "outputs": [
        {
          "output_type": "stream",
          "text": [
            "All even numbers:  [2, 4, 6, 8, 10, 12, 14, 16, 18, 20, 22, 24, 26, 28, 30, 32, 34, 36, 38, 40, 42, 44, 46, 48, 50, 52, 54, 56, 58, 60, 62, 64, 66, 68, 70, 72, 74, 76, 78, 80, 82, 84, 86, 88, 90, 92, 94, 96, 98, 100, 102, 104, 106, 108, 110, 112, 114, 116, 118, 120, 122, 124, 126, 128, 130, 132, 134, 136, 138, 140, 142, 144, 146, 148, 150, 152, 154, 156, 158, 160, 162, 164, 166, 168, 170, 172, 174, 176, 178, 180, 182, 184, 186, 188, 190, 192, 194, 196, 198, 200] \n",
            "\n",
            "All odd numbers:  [1, 3, 5, 7, 9, 11, 13, 15, 17, 19, 21, 23, 25, 27, 29, 31, 33, 35, 37, 39, 41, 43, 45, 47, 49, 51, 53, 55, 57, 59, 61, 63, 65, 67, 69, 71, 73, 75, 77, 79, 81, 83, 85, 87, 89, 91, 93, 95, 97, 99, 101, 103, 105, 107, 109, 111, 113, 115, 117, 119, 121, 123, 125, 127, 129, 131, 133, 135, 137, 139, 141, 143, 145, 147, 149, 151, 153, 155, 157, 159, 161, 163, 165, 167, 169, 171, 173, 175, 177, 179, 181, 183, 185, 187, 189, 191, 193, 195, 197, 199]\n"
          ],
          "name": "stdout"
        }
      ]
    },
    {
      "cell_type": "markdown",
      "metadata": {
        "id": "fdKoE9JsnLY8"
      },
      "source": [
        "**(5)** Define a function called `count` that has two arguments called `sequence` and `item`. Return the number of times the item occurs in the list.<br>\n",
        "\n",
        "    Example:\n",
        "    ```python\n",
        "    count([1,2,1,1], 1)\n",
        "    ```\n",
        "    It should return 3. Because `1` appears 3 times in the list."
      ]
    },
    {
      "cell_type": "code",
      "metadata": {
        "id": "wa6C64PenLY8",
        "colab": {
          "base_uri": "https://localhost:8080/"
        },
        "outputId": "b2726ff7-786a-4c69-c5d2-e29c93935376"
      },
      "source": [
        "def count(sequence, item):\n",
        "    toplam=0\n",
        "    for i in sequence:\n",
        "        if i == list:\n",
        "            for a in i:\n",
        "                if a==item:\n",
        "                    toplam+=1\n",
        "        else:\n",
        "            if i==item:\n",
        "                toplam+=1\n",
        "                \n",
        "    return toplam\n",
        "\n",
        "count([1,2,1,1], 1)"
      ],
      "execution_count": null,
      "outputs": [
        {
          "output_type": "execute_result",
          "data": {
            "text/plain": [
              "3"
            ]
          },
          "metadata": {
            "tags": []
          },
          "execution_count": 1
        }
      ]
    },
    {
      "cell_type": "markdown",
      "metadata": {
        "id": "10eibotInLY9"
      },
      "source": [
        "**(6)** Write a function called `digit_sum` that takes a positive integer n as input and returns the sum of all that number's digits as a single-digit number.\n",
        "\n",
        "    Example:\n",
        "        27684 --> 2 + 7 + 6 + 8 + 4 = 27 --> 2 + 7 = 9"
      ]
    },
    {
      "cell_type": "code",
      "metadata": {
        "id": "PxTrqAixnLY9",
        "colab": {
          "base_uri": "https://localhost:8080/"
        },
        "outputId": "c89d480d-5a26-43b8-800b-9136ed0cb65d"
      },
      "source": [
        "def digit_sum(number):\n",
        "        sum=0\n",
        "        \n",
        "        for i in str(number):\n",
        "                  sum += int(i)\n",
        "                  a = sum % 10\n",
        "                  b = sum // 10\n",
        "                  sum = a + b\n",
        "        print('Sum of {} is'.format(number), sum)\n",
        "        \n",
        "        return\n",
        "\n",
        "digit_sum(number = input(\"Please enter a number: \"))"
      ],
      "execution_count": null,
      "outputs": [
        {
          "output_type": "stream",
          "text": [
            "Please enter a number: 27684\n",
            "Sum of 27684 is 9\n"
          ],
          "name": "stdout"
        }
      ]
    },
    {
      "cell_type": "markdown",
      "metadata": {
        "id": "YAG95fuOnLY9"
      },
      "source": [
        "**(7)** Write a program to find greatest common divisor (GCD) or highest common factor (HCF) of given two numbers."
      ]
    },
    {
      "cell_type": "code",
      "metadata": {
        "id": "srlD1jcRnLY9",
        "colab": {
          "base_uri": "https://localhost:8080/"
        },
        "outputId": "be2a8f6e-d81c-426e-920e-b749d3854e9b"
      },
      "source": [
        "number_1 = int(input(\"Please enter first number: \"))\n",
        "number_2 = int(input(\"Please enter second number: \"))\n",
        "a= number_1\n",
        "b= number_2\n",
        "while(number_2 != 0):\n",
        "  temp = number_2\n",
        "  number_2 = number_1 % number_2\n",
        "  number_1 = temp\n",
        "gcd = temp\n",
        "print(\"GCD (greatest common divisor) of {} and {} is {}.\".format(a,b,gcd))"
      ],
      "execution_count": null,
      "outputs": [
        {
          "output_type": "stream",
          "text": [
            "Please enter first number: 72\n",
            "Please enter second number: 36\n",
            "GCD (greatest common divisor) of 72 and 36 is 36.\n"
          ],
          "name": "stdout"
        }
      ]
    },
    {
      "cell_type": "markdown",
      "metadata": {
        "id": "JN43XL4wnLY-"
      },
      "source": [
        "**(8)** Write a Python program that iterates integers from 1 to 50. For multiples of three print `fizz` instead of the number and for the multiples of five print `buzz`. For numbers which are multiples of both three and five print `fizzbuzz`."
      ]
    },
    {
      "cell_type": "code",
      "metadata": {
        "id": "SrlLiRu_nLY-",
        "colab": {
          "base_uri": "https://localhost:8080/"
        },
        "outputId": "4c98ebba-a176-44d8-b18e-63b42d1ea7f6"
      },
      "source": [
        "for i in list(range(1,51)):\n",
        "    if (i%3 == 0):\n",
        "        if (i%5==0):\n",
        "            print(\"fizzbuzz\")\n",
        "        else:\n",
        "            print(\"fizz\")\n",
        "    elif (i%5 == 0):\n",
        "        print(\"buzz\")\n",
        "    else:\n",
        "        print(i)"
      ],
      "execution_count": null,
      "outputs": [
        {
          "output_type": "stream",
          "text": [
            "1\n",
            "2\n",
            "fizz\n",
            "4\n",
            "buzz\n",
            "fizz\n",
            "7\n",
            "8\n",
            "fizz\n",
            "buzz\n",
            "11\n",
            "fizz\n",
            "13\n",
            "14\n",
            "fizzbuzz\n",
            "16\n",
            "17\n",
            "fizz\n",
            "19\n",
            "buzz\n",
            "fizz\n",
            "22\n",
            "23\n",
            "fizz\n",
            "buzz\n",
            "26\n",
            "fizz\n",
            "28\n",
            "29\n",
            "fizzbuzz\n",
            "31\n",
            "32\n",
            "fizz\n",
            "34\n",
            "buzz\n",
            "fizz\n",
            "37\n",
            "38\n",
            "fizz\n",
            "buzz\n",
            "41\n",
            "fizz\n",
            "43\n",
            "44\n",
            "fizzbuzz\n",
            "46\n",
            "47\n",
            "fizz\n",
            "49\n",
            "buzz\n"
          ],
          "name": "stdout"
        }
      ]
    },
    {
      "cell_type": "markdown",
      "metadata": {
        "id": "a9Msw9t0nLY-"
      },
      "source": [
        "**(9)** Please form a list out of Fibonacci numbers from 1 to 50. The first two Fibonacci numbers are 1. The next numbers are the sum of the previous two."
      ]
    },
    {
      "cell_type": "code",
      "metadata": {
        "id": "eOSo4q1jnLY_",
        "colab": {
          "base_uri": "https://localhost:8080/"
        },
        "outputId": "107dff53-4b7a-4c42-c6a8-0323856355a9"
      },
      "source": [
        "x,y=0,1\n",
        "a=[]\n",
        "\n",
        "while y<50:\n",
        "    a.append(y)\n",
        "    x,y = y,x+y\n",
        "\n",
        "print(\"Fibonacci numbers between 1 to 50 is\", a)"
      ],
      "execution_count": null,
      "outputs": [
        {
          "output_type": "stream",
          "text": [
            "Fibonacci numbers between 1 to 50 is [1, 1, 2, 3, 5, 8, 13, 21, 34]\n"
          ],
          "name": "stdout"
        }
      ]
    }
  ]
}