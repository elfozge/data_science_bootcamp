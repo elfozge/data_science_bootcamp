{
  "nbformat": 4,
  "nbformat_minor": 0,
  "metadata": {
    "kernelspec": {
      "display_name": "Python 3",
      "language": "python",
      "name": "python3"
    },
    "language_info": {
      "codemirror_mode": {
        "name": "ipython",
        "version": 3
      },
      "file_extension": ".py",
      "mimetype": "text/x-python",
      "name": "python",
      "nbconvert_exporter": "python",
      "pygments_lexer": "ipython3",
      "version": "3.8.2"
    },
    "colab": {
      "name": "ElifÖzgeOlgaç- BasicsOfNumPyArray.ipynb",
      "provenance": [],
      "include_colab_link": true
    }
  },
  "cells": [
    {
      "cell_type": "markdown",
      "metadata": {
        "id": "view-in-github",
        "colab_type": "text"
      },
      "source": [
        "<a href=\"https://colab.research.google.com/github/elfozge/data_science_bootcamp/blob/main/BasicsOfNumPyArray.ipynb\" target=\"_parent\"><img src=\"https://colab.research.google.com/assets/colab-badge.svg\" alt=\"Open In Colab\"/></a>"
      ]
    },
    {
      "cell_type": "markdown",
      "metadata": {
        "id": "OYGzO6ceSHLz"
      },
      "source": [
        "**(1)** Create 3 lists representing house features, each list containing 10 values. First one for squaremeter of house, second one for rooms and last one for price. Then, create an array combining these lists."
      ]
    },
    {
      "cell_type": "code",
      "metadata": {
        "id": "7CeeUDz6SHL5",
        "colab": {
          "base_uri": "https://localhost:8080/"
        },
        "outputId": "080fc8ff-9d33-4913-80fb-ae3ccf4883e5"
      },
      "source": [
        "import numpy as np\n",
        "squares_house = np.array([125, 90, 150, 100, 115, 80, 120, 150, 50, 100])\n",
        "rooms_house = np.array ([3, 2, 4, 3, 3, 1, 2, 3, 1, 3])\n",
        "price_house = np.array([4500, 1250, 5000, 2750, 3000, 1000, 2500, 2750, 800, 3000])\n",
        "\n",
        "house = np.array([squares_house, rooms_house, price_house])\n",
        "print(house)"
      ],
      "execution_count": null,
      "outputs": [
        {
          "output_type": "stream",
          "text": [
            "[[ 125   90  150  100  115   80  120  150   50  100]\n",
            " [   3    2    4    3    3    1    2    3    1    3]\n",
            " [4500 1250 5000 2750 3000 1000 2500 2750  800 3000]]\n"
          ],
          "name": "stdout"
        }
      ]
    },
    {
      "cell_type": "markdown",
      "metadata": {
        "id": "TBx9kAOGSHL6"
      },
      "source": [
        "**(2)** Transpose the array you have created, so that every line can represent features of one house."
      ]
    },
    {
      "cell_type": "code",
      "metadata": {
        "id": "2n2R_pBRSHL7",
        "colab": {
          "base_uri": "https://localhost:8080/"
        },
        "outputId": "27d03c3f-4d78-4622-8b24-210120df54cf"
      },
      "source": [
        "house_new = house.transpose()\n",
        "print(house_new)"
      ],
      "execution_count": null,
      "outputs": [
        {
          "output_type": "stream",
          "text": [
            "[[ 125    3 4500]\n",
            " [  90    2 1250]\n",
            " [ 150    4 5000]\n",
            " [ 100    3 2750]\n",
            " [ 115    3 3000]\n",
            " [  80    1 1000]\n",
            " [ 120    2 2500]\n",
            " [ 150    3 2750]\n",
            " [  50    1  800]\n",
            " [ 100    3 3000]]\n"
          ],
          "name": "stdout"
        }
      ]
    },
    {
      "cell_type": "markdown",
      "metadata": {
        "id": "-bp-pzruSHL7"
      },
      "source": [
        "**(3)** Display the shape of the array and explain what it means."
      ]
    },
    {
      "cell_type": "code",
      "metadata": {
        "id": "xj5t92-rSHL7",
        "colab": {
          "base_uri": "https://localhost:8080/"
        },
        "outputId": "d8a92834-aaac-4fd2-b00e-abc88c008913"
      },
      "source": [
        "print(house.shape)\n",
        "print(house_new.shape)\n",
        "\n",
        "#We have 10 houses and each has 3 attributes which are square ot it, number of rooms and price."
      ],
      "execution_count": null,
      "outputs": [
        {
          "output_type": "stream",
          "text": [
            "(3, 10)\n",
            "(10, 3)\n"
          ],
          "name": "stdout"
        }
      ]
    },
    {
      "cell_type": "markdown",
      "metadata": {
        "id": "VoV2Zhz7SHL7"
      },
      "source": [
        "**(4)** Write a function that returns an array of ones with zeros where both row and column numbers are even. Sample array is below. Number of rows and columns will be entered as parameters.\n",
        "\n",
        "```python\n",
        "    shape(6 x 5) --> [[1   1   1   1   1]\n",
        "                      [1   0   1   0   1]\n",
        "                      [1   1   1   1   1]\n",
        "                      [1   0   1   0   1]\n",
        "                      [1   1   1   1   1]\n",
        "                      [1   0   1   0   1]]\n",
        "```"
      ]
    },
    {
      "cell_type": "code",
      "metadata": {
        "id": "nReM3XJCSHL8"
      },
      "source": [
        ""
      ],
      "execution_count": null,
      "outputs": []
    }
  ]
}