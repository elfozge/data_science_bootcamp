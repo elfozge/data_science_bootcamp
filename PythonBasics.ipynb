{
  "nbformat": 4,
  "nbformat_minor": 0,
  "metadata": {
    "colab": {
      "name": "ElifÖzgeOlgaç-01PythonBasics.ipynb",
      "provenance": [],
      "collapsed_sections": [],
      "include_colab_link": true
    },
    "kernelspec": {
      "display_name": "Python 3",
      "language": "python",
      "name": "python3"
    },
    "language_info": {
      "codemirror_mode": {
        "name": "ipython",
        "version": 3
      },
      "file_extension": ".py",
      "mimetype": "text/x-python",
      "name": "python",
      "nbconvert_exporter": "python",
      "pygments_lexer": "ipython3",
      "version": "3.8.7"
    }
  },
  "cells": [
    {
      "cell_type": "markdown",
      "metadata": {
        "id": "view-in-github",
        "colab_type": "text"
      },
      "source": [
        "<a href=\"https://colab.research.google.com/github/elfozge/data_science_bootcamp/blob/main/PythonBasics.ipynb\" target=\"_parent\"><img src=\"https://colab.research.google.com/assets/colab-badge.svg\" alt=\"Open In Colab\"/></a>"
      ]
    },
    {
      "cell_type": "markdown",
      "metadata": {
        "id": "7yJWDdXYiZq_"
      },
      "source": [
        "**(1)** Write a code that outputs your name and surname in one line."
      ]
    },
    {
      "cell_type": "code",
      "metadata": {
        "id": "4XfGh1bqiZq_",
        "colab": {
          "base_uri": "https://localhost:8080/"
        },
        "outputId": "7e9eb252-5b6f-4feb-d8e9-f2798da54f18"
      },
      "source": [
        "print (\"Elif Özge Olgaç\")"
      ],
      "execution_count": null,
      "outputs": [
        {
          "output_type": "stream",
          "text": [
            "Elif Özge Olgaç\n"
          ],
          "name": "stdout"
        }
      ]
    },
    {
      "cell_type": "markdown",
      "metadata": {
        "id": "honld9ReiZrB"
      },
      "source": [
        "**(2)** Write a 1-line code that outputs your name and surname in two separate lines by using a single `print()` call."
      ]
    },
    {
      "cell_type": "code",
      "metadata": {
        "id": "CFrKQC6liZrB",
        "colab": {
          "base_uri": "https://localhost:8080/"
        },
        "outputId": "9d15d586-167a-42d3-d788-01c2f9ad01f2"
      },
      "source": [
        "print (\"Elif Özge\\nOlgaç\")"
      ],
      "execution_count": null,
      "outputs": [
        {
          "output_type": "stream",
          "text": [
            "Elif Özge\n",
            "Olgaç\n"
          ],
          "name": "stdout"
        }
      ]
    },
    {
      "cell_type": "markdown",
      "metadata": {
        "id": "JQ2-qXDjiZrB"
      },
      "source": [
        "**(3)** Use a single `print()` function that returns the following text. Notice the quotes in the text. Those quotes should be seen in the output!: \n",
        "\n",
        "`She will be a \"champion\" even if she finishes the race in '2nd' place`\n"
      ]
    },
    {
      "cell_type": "code",
      "metadata": {
        "colab": {
          "base_uri": "https://localhost:8080/"
        },
        "id": "ZrNgHHQsiZrB",
        "outputId": "42031926-f81b-4b88-f8ff-75e4399dcd99"
      },
      "source": [
        "print(\"She will be a \\\"champion\\\" even if she finishes the race in '2nd' place\")"
      ],
      "execution_count": null,
      "outputs": [
        {
          "output_type": "stream",
          "text": [
            "She will be a \"champion\" even if she finishes the race in '2nd' place\n"
          ],
          "name": "stdout"
        }
      ]
    }
  ]
}