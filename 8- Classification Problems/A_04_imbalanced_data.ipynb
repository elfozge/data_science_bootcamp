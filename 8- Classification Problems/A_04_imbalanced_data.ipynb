{
  "nbformat": 4,
  "nbformat_minor": 0,
  "metadata": {
    "colab": {
      "name": "A_04_imbalanced_data.ipynb",
      "provenance": [],
      "collapsed_sections": []
    },
    "kernelspec": {
      "name": "python3",
      "display_name": "Python 3"
    },
    "language_info": {
      "name": "python"
    }
  },
  "cells": [
    {
      "cell_type": "markdown",
      "metadata": {
        "id": "9Lo_qm0UTdxD"
      },
      "source": [
        "Using the dataset for the risk of heart attack with class imbalance:\n",
        "\n",
        "1) Create a logistic regression model and measure the performance of it.<br>\n",
        "2) By experimenting with different methods and class ratios; overcome class imbalance, determine the best performing method and class ratio."
      ]
    },
    {
      "cell_type": "code",
      "metadata": {
        "colab": {
          "base_uri": "https://localhost:8080/",
          "height": 290
        },
        "id": "xP0uBj6MS9Rw",
        "outputId": "81c1df27-17a7-4d1e-8853-c562a7d950ec"
      },
      "source": [
        "import numpy as np\n",
        "import pandas as pd\n",
        "import matplotlib.pyplot as plt\n",
        "import seaborn as sns\n",
        "\n",
        "%matplotlib inline\n",
        "\n",
        "from sklearn.model_selection import train_test_split\n",
        "from sklearn.linear_model import LogisticRegression\n",
        "from sklearn.metrics import confusion_matrix\n",
        "from sklearn.metrics import classification_report\n",
        "\n",
        "from sklearn.utils import resample\n",
        "from imblearn.over_sampling import SMOTE\n",
        "from imblearn.over_sampling import ADASYN\n",
        "\n",
        "df = pd.read_csv('cleveland-0_vs_4.csv')\n",
        "df.head()"
      ],
      "execution_count": 1,
      "outputs": [
        {
          "output_type": "stream",
          "text": [
            "/usr/local/lib/python3.7/dist-packages/sklearn/externals/six.py:31: FutureWarning: The module is deprecated in version 0.21 and will be removed in version 0.23 since we've dropped support for Python 2.7. Please rely on the official version of six (https://pypi.org/project/six/).\n",
            "  \"(https://pypi.org/project/six/).\", FutureWarning)\n",
            "/usr/local/lib/python3.7/dist-packages/sklearn/utils/deprecation.py:144: FutureWarning: The sklearn.neighbors.base module is  deprecated in version 0.22 and will be removed in version 0.24. The corresponding classes / functions should instead be imported from sklearn.neighbors. Anything that cannot be imported from sklearn.neighbors is now part of the private API.\n",
            "  warnings.warn(message, FutureWarning)\n"
          ],
          "name": "stderr"
        },
        {
          "output_type": "execute_result",
          "data": {
            "text/html": [
              "<div>\n",
              "<style scoped>\n",
              "    .dataframe tbody tr th:only-of-type {\n",
              "        vertical-align: middle;\n",
              "    }\n",
              "\n",
              "    .dataframe tbody tr th {\n",
              "        vertical-align: top;\n",
              "    }\n",
              "\n",
              "    .dataframe thead th {\n",
              "        text-align: right;\n",
              "    }\n",
              "</style>\n",
              "<table border=\"1\" class=\"dataframe\">\n",
              "  <thead>\n",
              "    <tr style=\"text-align: right;\">\n",
              "      <th></th>\n",
              "      <th>age</th>\n",
              "      <th>sex</th>\n",
              "      <th>cp</th>\n",
              "      <th>trestbps</th>\n",
              "      <th>chol</th>\n",
              "      <th>fbs</th>\n",
              "      <th>restecg</th>\n",
              "      <th>thalach</th>\n",
              "      <th>exang</th>\n",
              "      <th>oldpeak</th>\n",
              "      <th>slope</th>\n",
              "      <th>ca</th>\n",
              "      <th>thal</th>\n",
              "      <th>num</th>\n",
              "    </tr>\n",
              "  </thead>\n",
              "  <tbody>\n",
              "    <tr>\n",
              "      <th>0</th>\n",
              "      <td>63</td>\n",
              "      <td>1</td>\n",
              "      <td>1</td>\n",
              "      <td>145</td>\n",
              "      <td>233</td>\n",
              "      <td>1</td>\n",
              "      <td>2</td>\n",
              "      <td>150</td>\n",
              "      <td>0</td>\n",
              "      <td>2.3</td>\n",
              "      <td>3</td>\n",
              "      <td>0</td>\n",
              "      <td>6</td>\n",
              "      <td>negative</td>\n",
              "    </tr>\n",
              "    <tr>\n",
              "      <th>1</th>\n",
              "      <td>37</td>\n",
              "      <td>1</td>\n",
              "      <td>3</td>\n",
              "      <td>130</td>\n",
              "      <td>250</td>\n",
              "      <td>0</td>\n",
              "      <td>0</td>\n",
              "      <td>187</td>\n",
              "      <td>0</td>\n",
              "      <td>3.5</td>\n",
              "      <td>3</td>\n",
              "      <td>0</td>\n",
              "      <td>3</td>\n",
              "      <td>negative</td>\n",
              "    </tr>\n",
              "    <tr>\n",
              "      <th>2</th>\n",
              "      <td>41</td>\n",
              "      <td>0</td>\n",
              "      <td>2</td>\n",
              "      <td>130</td>\n",
              "      <td>204</td>\n",
              "      <td>0</td>\n",
              "      <td>2</td>\n",
              "      <td>172</td>\n",
              "      <td>0</td>\n",
              "      <td>1.4</td>\n",
              "      <td>1</td>\n",
              "      <td>0</td>\n",
              "      <td>3</td>\n",
              "      <td>negative</td>\n",
              "    </tr>\n",
              "    <tr>\n",
              "      <th>3</th>\n",
              "      <td>56</td>\n",
              "      <td>1</td>\n",
              "      <td>2</td>\n",
              "      <td>120</td>\n",
              "      <td>236</td>\n",
              "      <td>0</td>\n",
              "      <td>0</td>\n",
              "      <td>178</td>\n",
              "      <td>0</td>\n",
              "      <td>0.8</td>\n",
              "      <td>1</td>\n",
              "      <td>0</td>\n",
              "      <td>3</td>\n",
              "      <td>negative</td>\n",
              "    </tr>\n",
              "    <tr>\n",
              "      <th>4</th>\n",
              "      <td>57</td>\n",
              "      <td>0</td>\n",
              "      <td>4</td>\n",
              "      <td>120</td>\n",
              "      <td>354</td>\n",
              "      <td>0</td>\n",
              "      <td>0</td>\n",
              "      <td>163</td>\n",
              "      <td>1</td>\n",
              "      <td>0.6</td>\n",
              "      <td>1</td>\n",
              "      <td>0</td>\n",
              "      <td>3</td>\n",
              "      <td>negative</td>\n",
              "    </tr>\n",
              "  </tbody>\n",
              "</table>\n",
              "</div>"
            ],
            "text/plain": [
              "   age  sex  cp  trestbps  chol  fbs  ...  exang  oldpeak  slope  ca  thal       num\n",
              "0   63    1   1       145   233    1  ...      0      2.3      3   0     6  negative\n",
              "1   37    1   3       130   250    0  ...      0      3.5      3   0     3  negative\n",
              "2   41    0   2       130   204    0  ...      0      1.4      1   0     3  negative\n",
              "3   56    1   2       120   236    0  ...      0      0.8      1   0     3  negative\n",
              "4   57    0   4       120   354    0  ...      1      0.6      1   0     3  negative\n",
              "\n",
              "[5 rows x 14 columns]"
            ]
          },
          "metadata": {
            "tags": []
          },
          "execution_count": 1
        }
      ]
    },
    {
      "cell_type": "code",
      "metadata": {
        "colab": {
          "base_uri": "https://localhost:8080/"
        },
        "id": "0NkGpiZIT_zj",
        "outputId": "76251831-aab8-45c8-c702-0a3bf6e41e27"
      },
      "source": [
        "df.info()"
      ],
      "execution_count": 2,
      "outputs": [
        {
          "output_type": "stream",
          "text": [
            "<class 'pandas.core.frame.DataFrame'>\n",
            "RangeIndex: 177 entries, 0 to 176\n",
            "Data columns (total 14 columns):\n",
            " #   Column    Non-Null Count  Dtype  \n",
            "---  ------    --------------  -----  \n",
            " 0   age       177 non-null    int64  \n",
            " 1   sex       177 non-null    int64  \n",
            " 2   cp        177 non-null    int64  \n",
            " 3   trestbps  177 non-null    int64  \n",
            " 4   chol      177 non-null    int64  \n",
            " 5   fbs       177 non-null    int64  \n",
            " 6   restecg   177 non-null    int64  \n",
            " 7   thalach   177 non-null    int64  \n",
            " 8   exang     177 non-null    int64  \n",
            " 9   oldpeak   177 non-null    float64\n",
            " 10  slope     177 non-null    int64  \n",
            " 11  ca        177 non-null    object \n",
            " 12  thal      177 non-null    object \n",
            " 13  num       177 non-null    object \n",
            "dtypes: float64(1), int64(10), object(3)\n",
            "memory usage: 19.5+ KB\n"
          ],
          "name": "stdout"
        }
      ]
    },
    {
      "cell_type": "code",
      "metadata": {
        "colab": {
          "base_uri": "https://localhost:8080/"
        },
        "id": "kycrbnglUw3v",
        "outputId": "90dda094-d196-43f0-da38-30260ab6889e"
      },
      "source": [
        "for column_name in df.columns:\n",
        "    print(\"{} unique values in column : {}\".format(column_name, df[column_name].unique()))\n",
        "    print(\"-\" * 30)"
      ],
      "execution_count": 3,
      "outputs": [
        {
          "output_type": "stream",
          "text": [
            "age unique values in column : [63 37 41 56 57 44 52 54 48 49 64 58 50 66 69 59 42 61 71 51 65 53 46 45\n",
            " 39 47 62 34 35 29 43 55 60 67 68 74 76 70 38 40 77]\n",
            "------------------------------\n",
            "sex unique values in column : [1 0]\n",
            "------------------------------\n",
            "cp unique values in column : [1 3 2 4]\n",
            "------------------------------\n",
            "trestbps unique values in column : [145 130 120 140 172 110 150 135 160 105 125 142 155 104 138 128 108 134\n",
            " 115 118 100 124  94 122 112 102 152 101 132 148 129 180 136 126 106 156\n",
            " 170 178 146 165 114]\n",
            "------------------------------\n",
            "chol unique values in column : [233 250 204 236 354 192 294 263 199 239 275 266 211 283 219 340 226 234\n",
            " 243 302 212 175 417 197 198 177 273 213 304 232 269 360 308 245 208 321\n",
            " 325 235 257 216 256 231 141 252 201 260 182 303 265 309 203 183 222 220\n",
            " 209 258 227 261 221 205 240 318 298 564 277 214 248 255 207 223 288 160\n",
            " 394 315 246 244 195 196 254 126 313 262 215 193 271 268 267 210 295 306\n",
            " 178 242 180 228 253 342 157 168 247 264 186 270 149 278 206 225 230 407\n",
            " 289 166 174]\n",
            "------------------------------\n",
            "fbs unique values in column : [1 0]\n",
            "------------------------------\n",
            "restecg unique values in column : [2 0 1]\n",
            "------------------------------\n",
            "thalach unique values in column : [150 187 172 178 163 148 153 173 162 160 139 171 144 158 114 151 161 179\n",
            " 137 157 123 152 168 140 188 125 170 165 142 180 182 156 115 149 146 175\n",
            " 185 174 159 130 132 143 147 154 202 186 166 164 184 122 169 138 111 131\n",
            " 133 155 167 192 121  96 126 105 181 116 190 145 194 128 124]\n",
            "------------------------------\n",
            "exang unique values in column : [0 1]\n",
            "------------------------------\n",
            "oldpeak unique values in column : [2.3 3.5 1.4 0.8 0.6 0.4 1.3 0.  0.5 1.2 0.2 1.8 1.  1.6 2.6 1.5 3.  2.4\n",
            " 0.1 1.9 1.1 2.  0.7 0.3 0.9 4.2 2.5 4.  3.8 3.6 4.4]\n",
            "------------------------------\n",
            "slope unique values in column : [3 1 2]\n",
            "------------------------------\n",
            "ca unique values in column : ['0' '2' '1' '3' '<null>']\n",
            "------------------------------\n",
            "thal unique values in column : ['6' '3' '7' '<null>']\n",
            "------------------------------\n",
            "num unique values in column : ['negative' 'positive']\n",
            "------------------------------\n"
          ],
          "name": "stdout"
        }
      ]
    },
    {
      "cell_type": "code",
      "metadata": {
        "id": "INwHiCGrUwxd"
      },
      "source": [
        "df['ca'].replace({'<null>':'0'}, inplace=True)\n",
        "df['ca'] = df['ca'].astype('int64') #change type from object to integer"
      ],
      "execution_count": 4,
      "outputs": []
    },
    {
      "cell_type": "code",
      "metadata": {
        "colab": {
          "base_uri": "https://localhost:8080/"
        },
        "id": "Wa0YrQ4IWclY",
        "outputId": "188b1009-fdf2-4253-e31a-98ba66ae811e"
      },
      "source": [
        "df['thal'].value_counts()"
      ],
      "execution_count": 5,
      "outputs": [
        {
          "output_type": "execute_result",
          "data": {
            "text/plain": [
              "3         131\n",
              "7          37\n",
              "6           8\n",
              "<null>      1\n",
              "Name: thal, dtype: int64"
            ]
          },
          "metadata": {
            "tags": []
          },
          "execution_count": 5
        }
      ]
    },
    {
      "cell_type": "code",
      "metadata": {
        "id": "trmtNY6MUwuG"
      },
      "source": [
        "df['thal'].replace({'<null>':'3'}, inplace=True) # since 3 is a most frequent value\n",
        "df['thal'] = df['thal'].astype('int64') #change type from object to integer"
      ],
      "execution_count": 6,
      "outputs": []
    },
    {
      "cell_type": "code",
      "metadata": {
        "id": "5CoY4bGpf45x"
      },
      "source": [
        "df['oldpeak'] = df['oldpeak'].astype('int64')"
      ],
      "execution_count": 7,
      "outputs": []
    },
    {
      "cell_type": "code",
      "metadata": {
        "colab": {
          "base_uri": "https://localhost:8080/"
        },
        "id": "r2MMnUe_f4tL",
        "outputId": "2d215b10-4fc2-4aaf-a266-b36c568677ee"
      },
      "source": [
        "df.info() #now except for num other features are integer."
      ],
      "execution_count": 8,
      "outputs": [
        {
          "output_type": "stream",
          "text": [
            "<class 'pandas.core.frame.DataFrame'>\n",
            "RangeIndex: 177 entries, 0 to 176\n",
            "Data columns (total 14 columns):\n",
            " #   Column    Non-Null Count  Dtype \n",
            "---  ------    --------------  ----- \n",
            " 0   age       177 non-null    int64 \n",
            " 1   sex       177 non-null    int64 \n",
            " 2   cp        177 non-null    int64 \n",
            " 3   trestbps  177 non-null    int64 \n",
            " 4   chol      177 non-null    int64 \n",
            " 5   fbs       177 non-null    int64 \n",
            " 6   restecg   177 non-null    int64 \n",
            " 7   thalach   177 non-null    int64 \n",
            " 8   exang     177 non-null    int64 \n",
            " 9   oldpeak   177 non-null    int64 \n",
            " 10  slope     177 non-null    int64 \n",
            " 11  ca        177 non-null    int64 \n",
            " 12  thal      177 non-null    int64 \n",
            " 13  num       177 non-null    object\n",
            "dtypes: int64(13), object(1)\n",
            "memory usage: 19.5+ KB\n"
          ],
          "name": "stdout"
        }
      ]
    },
    {
      "cell_type": "code",
      "metadata": {
        "colab": {
          "base_uri": "https://localhost:8080/",
          "height": 368
        },
        "id": "g6VnYsEaf4qk",
        "outputId": "c244b805-b1aa-405a-c65a-48c4ffbea907"
      },
      "source": [
        "plt.figure(figsize=(10,5))\n",
        "sns.countplot(x='num', data=df)\n",
        "plt.show()\n",
        "\n",
        "print(\"Ratio of negative: %{:.2f}\".format(len(df[df['num'] == 'negative']) / len(df)*100))\n",
        "print(\"Ratio of positive: %{:.2f}\".format(len(df[df['num'] == 'positive']) / len(df)*100))"
      ],
      "execution_count": 9,
      "outputs": [
        {
          "output_type": "display_data",
          "data": {
            "image/png": "[encoded data removed]",
            "text/plain": [
              "<Figure size 720x360 with 1 Axes>"
            ]
          },
          "metadata": {
            "tags": [],
            "needs_background": "light"
          }
        },
        {
          "output_type": "stream",
          "text": [
            "Ratio of negative: %92.66\n",
            "Ratio of positive: %7.34\n"
          ],
          "name": "stdout"
        }
      ]
    },
    {
      "cell_type": "code",
      "metadata": {
        "id": "0Hgya9QNtw6T"
      },
      "source": [
        "X = df.drop('num', axis=1)\n",
        "Y = df['num']"
      ],
      "execution_count": 10,
      "outputs": []
    },
    {
      "cell_type": "code",
      "metadata": {
        "colab": {
          "base_uri": "https://localhost:8080/"
        },
        "id": "8WJAiLg6tx8V",
        "outputId": "f70991f6-88c7-4106-d28f-7eb929a3b8d6"
      },
      "source": [
        "X_train, X_test, Y_train, Y_test =  train_test_split(X, Y, test_size=0.30, random_state=42, stratify = Y)\n",
        "\n",
        "log_reg = LogisticRegression(max_iter=10000)\n",
        "log_reg.fit(X_train, Y_train)\n",
        "\n",
        "train_accuracy = log_reg.score(X_train, Y_train)\n",
        "test_accuracy = log_reg.score(X_test, Y_test)\n",
        "\n",
        "print('Accuracy on Train Data : {:.2f}'.format(train_accuracy), \n",
        "      'Accuracy on Test Data  : {:.2f}'.format(test_accuracy), sep='\\n')"
      ],
      "execution_count": 11,
      "outputs": [
        {
          "output_type": "stream",
          "text": [
            "Accuracy on Train Data : 0.99\n",
            "Accuracy on Test Data  : 0.96\n"
          ],
          "name": "stdout"
        }
      ]
    },
    {
      "cell_type": "code",
      "metadata": {
        "colab": {
          "base_uri": "https://localhost:8080/"
        },
        "id": "UUBuAdB5tx6A",
        "outputId": "b46b1d38-6c11-4953-db0d-e25798d663bc"
      },
      "source": [
        "pred_train = log_reg.predict(X_train)\n",
        "pred_test = log_reg.predict(X_test)\n",
        "\n",
        "print(\"Train Dataset\")\n",
        "print(classification_report(Y_train, pred_train))\n",
        "    \n",
        "print(\"Test Dataset\")\n",
        "print(classification_report(Y_test, pred_test))"
      ],
      "execution_count": 12,
      "outputs": [
        {
          "output_type": "stream",
          "text": [
            "Train Dataset\n",
            "              precision    recall  f1-score   support\n",
            "\n",
            "    negative       0.99      1.00      1.00       114\n",
            "    positive       1.00      0.89      0.94         9\n",
            "\n",
            "    accuracy                           0.99       123\n",
            "   macro avg       1.00      0.94      0.97       123\n",
            "weighted avg       0.99      0.99      0.99       123\n",
            "\n",
            "Test Dataset\n",
            "              precision    recall  f1-score   support\n",
            "\n",
            "    negative       0.96      1.00      0.98        50\n",
            "    positive       1.00      0.50      0.67         4\n",
            "\n",
            "    accuracy                           0.96        54\n",
            "   macro avg       0.98      0.75      0.82        54\n",
            "weighted avg       0.96      0.96      0.96        54\n",
            "\n"
          ],
          "name": "stdout"
        }
      ]
    },
    {
      "cell_type": "markdown",
      "metadata": {
        "id": "ao3_PpgGvxqO"
      },
      "source": [
        "#RESAMPLING"
      ]
    },
    {
      "cell_type": "code",
      "metadata": {
        "id": "M5e3NSb-tx3_"
      },
      "source": [
        "def create_model(X, Y):\n",
        "    X_train, X_test, Y_train, Y_test =  train_test_split(X, Y, test_size=0.20, random_state=111, stratify = Y)\n",
        "    \n",
        "    logreg_model = LogisticRegression()\n",
        "    logreg_model.fit(X_train, Y_train)\n",
        "\n",
        "    pred_train = logreg_model.predict(X_train)\n",
        "    pred_test = logreg_model.predict(X_test)\n",
        "    \n",
        "    conf_mtx_train = confusion_matrix(Y_train, pred_train)\n",
        "    conf_mtx_test = confusion_matrix(Y_test, pred_test)\n",
        "    \n",
        "    print(\"Accuracy : {}\\n\".format(logreg_model.score(X_test, Y_test)))\n",
        "    \n",
        "    print(\"Train Dataset\")\n",
        "    print(classification_report(Y_train, pred_train))\n",
        "    \n",
        "    print(\"Test Dataset\")\n",
        "    print(classification_report(Y_test, pred_test))"
      ],
      "execution_count": 13,
      "outputs": []
    },
    {
      "cell_type": "code",
      "metadata": {
        "id": "L_Av8PXrwyfh"
      },
      "source": [
        "positive = df[df['num'] == 'positive']\n",
        "negative = df[df['num'] == 'negative']"
      ],
      "execution_count": 14,
      "outputs": []
    },
    {
      "cell_type": "code",
      "metadata": {
        "colab": {
          "base_uri": "https://localhost:8080/"
        },
        "id": "3_olrexrtx1l",
        "outputId": "b12194ed-6d06-4bd3-f67e-302d927424f0"
      },
      "source": [
        "#UP-SAMPLING\n",
        "positive_upsampled = resample(positive,\n",
        "                              replace = True,\n",
        "                              n_samples = len(negative),\n",
        "                              random_state = 42)\n",
        "\n",
        "upsampled_df = pd.concat([negative, positive_upsampled])\n",
        "upsampled_df['num'].value_counts()"
      ],
      "execution_count": 15,
      "outputs": [
        {
          "output_type": "execute_result",
          "data": {
            "text/plain": [
              "negative    164\n",
              "positive    164\n",
              "Name: num, dtype: int64"
            ]
          },
          "metadata": {
            "tags": []
          },
          "execution_count": 15
        }
      ]
    },
    {
      "cell_type": "code",
      "metadata": {
        "colab": {
          "base_uri": "https://localhost:8080/"
        },
        "id": "Qt3UORfhtxy-",
        "outputId": "ed6d4f63-fdb3-44d7-fee7-7e345a430058"
      },
      "source": [
        "X = upsampled_df.drop('num', axis=1)\n",
        "Y = upsampled_df['num']\n",
        "\n",
        "create_model(X,Y)"
      ],
      "execution_count": 16,
      "outputs": [
        {
          "output_type": "stream",
          "text": [
            "Accuracy : 0.9696969696969697\n",
            "\n",
            "Train Dataset\n",
            "              precision    recall  f1-score   support\n",
            "\n",
            "    negative       1.00      0.94      0.97       131\n",
            "    positive       0.94      1.00      0.97       131\n",
            "\n",
            "    accuracy                           0.97       262\n",
            "   macro avg       0.97      0.97      0.97       262\n",
            "weighted avg       0.97      0.97      0.97       262\n",
            "\n",
            "Test Dataset\n",
            "              precision    recall  f1-score   support\n",
            "\n",
            "    negative       1.00      0.94      0.97        33\n",
            "    positive       0.94      1.00      0.97        33\n",
            "\n",
            "    accuracy                           0.97        66\n",
            "   macro avg       0.97      0.97      0.97        66\n",
            "weighted avg       0.97      0.97      0.97        66\n",
            "\n"
          ],
          "name": "stdout"
        },
        {
          "output_type": "stream",
          "text": [
            "/usr/local/lib/python3.7/dist-packages/sklearn/linear_model/_logistic.py:940: ConvergenceWarning: lbfgs failed to converge (status=1):\n",
            "STOP: TOTAL NO. of ITERATIONS REACHED LIMIT.\n",
            "\n",
            "Increase the number of iterations (max_iter) or scale the data as shown in:\n",
            "    https://scikit-learn.org/stable/modules/preprocessing.html\n",
            "Please also refer to the documentation for alternative solver options:\n",
            "    https://scikit-learn.org/stable/modules/linear_model.html#logistic-regression\n",
            "  extra_warning_msg=_LOGISTIC_SOLVER_CONVERGENCE_MSG)\n"
          ],
          "name": "stderr"
        }
      ]
    },
    {
      "cell_type": "code",
      "metadata": {
        "colab": {
          "base_uri": "https://localhost:8080/"
        },
        "id": "R5CkmAfHzMOC",
        "outputId": "7540c7ff-026e-4134-e677-ffcf4218736f"
      },
      "source": [
        "#DOWN-SAMPLING\n",
        "\n",
        "negative_downsampled = resample(negative,\n",
        "                                replace=True,\n",
        "                                n_samples=len(positive),\n",
        "                                random_state=42)\n",
        "\n",
        "downsampled_df = pd.concat([negative_downsampled, positive])\n",
        "downsampled_df['num'].value_counts()"
      ],
      "execution_count": 17,
      "outputs": [
        {
          "output_type": "execute_result",
          "data": {
            "text/plain": [
              "positive    13\n",
              "negative    13\n",
              "Name: num, dtype: int64"
            ]
          },
          "metadata": {
            "tags": []
          },
          "execution_count": 17
        }
      ]
    },
    {
      "cell_type": "code",
      "metadata": {
        "colab": {
          "base_uri": "https://localhost:8080/"
        },
        "id": "W6fJW5mSzMGK",
        "outputId": "df7b87e5-8266-45c1-8cd3-8505133c1edf"
      },
      "source": [
        "X = downsampled_df.drop('num', axis=1)\n",
        "Y = downsampled_df['num']\n",
        "\n",
        "create_model(X,Y)"
      ],
      "execution_count": 18,
      "outputs": [
        {
          "output_type": "stream",
          "text": [
            "Accuracy : 0.8333333333333334\n",
            "\n",
            "Train Dataset\n",
            "              precision    recall  f1-score   support\n",
            "\n",
            "    negative       1.00      1.00      1.00        10\n",
            "    positive       1.00      1.00      1.00        10\n",
            "\n",
            "    accuracy                           1.00        20\n",
            "   macro avg       1.00      1.00      1.00        20\n",
            "weighted avg       1.00      1.00      1.00        20\n",
            "\n",
            "Test Dataset\n",
            "              precision    recall  f1-score   support\n",
            "\n",
            "    negative       1.00      0.67      0.80         3\n",
            "    positive       0.75      1.00      0.86         3\n",
            "\n",
            "    accuracy                           0.83         6\n",
            "   macro avg       0.88      0.83      0.83         6\n",
            "weighted avg       0.88      0.83      0.83         6\n",
            "\n"
          ],
          "name": "stdout"
        },
        {
          "output_type": "stream",
          "text": [
            "/usr/local/lib/python3.7/dist-packages/sklearn/linear_model/_logistic.py:940: ConvergenceWarning: lbfgs failed to converge (status=1):\n",
            "STOP: TOTAL NO. of ITERATIONS REACHED LIMIT.\n",
            "\n",
            "Increase the number of iterations (max_iter) or scale the data as shown in:\n",
            "    https://scikit-learn.org/stable/modules/preprocessing.html\n",
            "Please also refer to the documentation for alternative solver options:\n",
            "    https://scikit-learn.org/stable/modules/linear_model.html#logistic-regression\n",
            "  extra_warning_msg=_LOGISTIC_SOLVER_CONVERGENCE_MSG)\n"
          ],
          "name": "stderr"
        }
      ]
    },
    {
      "cell_type": "code",
      "metadata": {
        "colab": {
          "base_uri": "https://localhost:8080/"
        },
        "id": "V3CpJrRnf4nn",
        "outputId": "6dc633ef-f9eb-44b9-8a70-8b67156b9b33"
      },
      "source": [
        "#SMOTE\n",
        "\n",
        "Y = df.num\n",
        "X = df.drop('num', axis=1)\n",
        "\n",
        "sm = SMOTE(random_state=27, sampling_strategy=1.0)\n",
        "X_smote, Y_smote = sm.fit_sample(X, Y)\n",
        "\n",
        "create_model(X_smote, Y_smote)\n"
      ],
      "execution_count": 19,
      "outputs": [
        {
          "output_type": "stream",
          "text": [
            "Accuracy : 0.9696969696969697\n",
            "\n",
            "Train Dataset\n",
            "              precision    recall  f1-score   support\n",
            "\n",
            "    negative       0.94      0.91      0.93       131\n",
            "    positive       0.91      0.95      0.93       131\n",
            "\n",
            "    accuracy                           0.93       262\n",
            "   macro avg       0.93      0.93      0.93       262\n",
            "weighted avg       0.93      0.93      0.93       262\n",
            "\n",
            "Test Dataset\n",
            "              precision    recall  f1-score   support\n",
            "\n",
            "    negative       1.00      0.94      0.97        33\n",
            "    positive       0.94      1.00      0.97        33\n",
            "\n",
            "    accuracy                           0.97        66\n",
            "   macro avg       0.97      0.97      0.97        66\n",
            "weighted avg       0.97      0.97      0.97        66\n",
            "\n"
          ],
          "name": "stdout"
        },
        {
          "output_type": "stream",
          "text": [
            "/usr/local/lib/python3.7/dist-packages/sklearn/utils/deprecation.py:87: FutureWarning: Function safe_indexing is deprecated; safe_indexing is deprecated in version 0.22 and will be removed in version 0.24.\n",
            "  warnings.warn(msg, category=FutureWarning)\n",
            "/usr/local/lib/python3.7/dist-packages/sklearn/linear_model/_logistic.py:940: ConvergenceWarning: lbfgs failed to converge (status=1):\n",
            "STOP: TOTAL NO. of ITERATIONS REACHED LIMIT.\n",
            "\n",
            "Increase the number of iterations (max_iter) or scale the data as shown in:\n",
            "    https://scikit-learn.org/stable/modules/preprocessing.html\n",
            "Please also refer to the documentation for alternative solver options:\n",
            "    https://scikit-learn.org/stable/modules/linear_model.html#logistic-regression\n",
            "  extra_warning_msg=_LOGISTIC_SOLVER_CONVERGENCE_MSG)\n"
          ],
          "name": "stderr"
        }
      ]
    },
    {
      "cell_type": "code",
      "metadata": {
        "colab": {
          "base_uri": "https://localhost:8080/"
        },
        "id": "qL9S4JSNf4kw",
        "outputId": "0081fc0f-d6ff-41df-c8fd-118ea77485e2"
      },
      "source": [
        "#ADASYN\n",
        "\n",
        "Y = df.num\n",
        "X = df.drop('num', axis=1)\n",
        "\n",
        "ad = ADASYN()\n",
        "X_adasyn, Y_adasyn = ad.fit_sample(X, Y)\n",
        "\n",
        "create_model(X_adasyn, Y_adasyn)"
      ],
      "execution_count": 20,
      "outputs": [
        {
          "output_type": "stream",
          "text": [
            "Accuracy : 0.9090909090909091\n",
            "\n",
            "Train Dataset\n",
            "              precision    recall  f1-score   support\n",
            "\n",
            "    negative       0.95      0.92      0.94       131\n",
            "    positive       0.93      0.95      0.94       132\n",
            "\n",
            "    accuracy                           0.94       263\n",
            "   macro avg       0.94      0.94      0.94       263\n",
            "weighted avg       0.94      0.94      0.94       263\n",
            "\n",
            "Test Dataset\n",
            "              precision    recall  f1-score   support\n",
            "\n",
            "    negative       0.97      0.85      0.90        33\n",
            "    positive       0.86      0.97      0.91        33\n",
            "\n",
            "    accuracy                           0.91        66\n",
            "   macro avg       0.92      0.91      0.91        66\n",
            "weighted avg       0.92      0.91      0.91        66\n",
            "\n"
          ],
          "name": "stdout"
        },
        {
          "output_type": "stream",
          "text": [
            "/usr/local/lib/python3.7/dist-packages/sklearn/utils/deprecation.py:87: FutureWarning: Function safe_indexing is deprecated; safe_indexing is deprecated in version 0.22 and will be removed in version 0.24.\n",
            "  warnings.warn(msg, category=FutureWarning)\n",
            "/usr/local/lib/python3.7/dist-packages/sklearn/linear_model/_logistic.py:940: ConvergenceWarning: lbfgs failed to converge (status=1):\n",
            "STOP: TOTAL NO. of ITERATIONS REACHED LIMIT.\n",
            "\n",
            "Increase the number of iterations (max_iter) or scale the data as shown in:\n",
            "    https://scikit-learn.org/stable/modules/preprocessing.html\n",
            "Please also refer to the documentation for alternative solver options:\n",
            "    https://scikit-learn.org/stable/modules/linear_model.html#logistic-regression\n",
            "  extra_warning_msg=_LOGISTIC_SOLVER_CONVERGENCE_MSG)\n"
          ],
          "name": "stderr"
        }
      ]
    },
    {
      "cell_type": "markdown",
      "metadata": {
        "id": "yGcjn4iX0-j1"
      },
      "source": [
        "Both Up-Sampling and Smote gave the same result."
      ]
    }
  ]
}