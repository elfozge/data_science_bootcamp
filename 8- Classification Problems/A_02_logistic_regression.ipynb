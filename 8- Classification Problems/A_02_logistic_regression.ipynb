{
  "nbformat": 4,
  "nbformat_minor": 0,
  "metadata": {
    "colab": {
      "name": "A_02_logistic_regression.ipynb",
      "provenance": [],
      "collapsed_sections": []
    },
    "kernelspec": {
      "name": "python3",
      "display_name": "Python 3"
    },
    "language_info": {
      "name": "python"
    }
  },
  "cells": [
    {
      "cell_type": "markdown",
      "metadata": {
        "id": "BeJZHhx169rM"
      },
      "source": [
        "\n",
        "\n",
        "\n",
        "*   In this assignment, you are going to use your model to predict survival of the Titanic disaster. For this assignment, send a link to a Jupyter notebook containing solutions to the following tasks.\n",
        "*   Download Titanic data from Kaggle. The data in the train.csv file meets your need.\n",
        "*   Split your data into training and test sets.\n",
        "*   Predict the survival based on the test data you split by creating your model.\n",
        "*   Is your model's performance satisfactory? Explain.\n",
        "*   Try to improve your model's performance by adding or subtracting some variables.\n",
        "*   Explore the advantages and disadvantages of Logistic Regression and discuss with your mentor.\n",
        "\n",
        "\n",
        "\n",
        "\n",
        "\n"
      ]
    },
    {
      "cell_type": "code",
      "metadata": {
        "id": "_Zs9z_Ze6-Iq"
      },
      "source": [
        "import numpy as np\n",
        "import pandas as pd\n",
        "\n",
        "from sklearn.model_selection import train_test_split\n",
        "from sklearn.linear_model import LogisticRegression\n",
        "\n",
        "from sklearn.preprocessing import Normalizer\n",
        "from sklearn.preprocessing import StandardScaler\n",
        "\n",
        "import warnings\n",
        "warnings.filterwarnings('ignore')"
      ],
      "execution_count": 1,
      "outputs": []
    },
    {
      "cell_type": "code",
      "metadata": {
        "colab": {
          "base_uri": "https://localhost:8080/",
          "height": 203
        },
        "id": "-wYrraEq7OyE",
        "outputId": "5908fe86-5fb1-46c9-fe25-89e4c7a0b2ec"
      },
      "source": [
        "df = pd.read_csv('/content/train.csv')\n",
        "df.head()"
      ],
      "execution_count": 2,
      "outputs": [
        {
          "output_type": "execute_result",
          "data": {
            "text/html": [
              "<div>\n",
              "<style scoped>\n",
              "    .dataframe tbody tr th:only-of-type {\n",
              "        vertical-align: middle;\n",
              "    }\n",
              "\n",
              "    .dataframe tbody tr th {\n",
              "        vertical-align: top;\n",
              "    }\n",
              "\n",
              "    .dataframe thead th {\n",
              "        text-align: right;\n",
              "    }\n",
              "</style>\n",
              "<table border=\"1\" class=\"dataframe\">\n",
              "  <thead>\n",
              "    <tr style=\"text-align: right;\">\n",
              "      <th></th>\n",
              "      <th>PassengerId</th>\n",
              "      <th>Survived</th>\n",
              "      <th>Pclass</th>\n",
              "      <th>Name</th>\n",
              "      <th>Sex</th>\n",
              "      <th>Age</th>\n",
              "      <th>SibSp</th>\n",
              "      <th>Parch</th>\n",
              "      <th>Ticket</th>\n",
              "      <th>Fare</th>\n",
              "      <th>Cabin</th>\n",
              "      <th>Embarked</th>\n",
              "    </tr>\n",
              "  </thead>\n",
              "  <tbody>\n",
              "    <tr>\n",
              "      <th>0</th>\n",
              "      <td>1</td>\n",
              "      <td>0</td>\n",
              "      <td>3</td>\n",
              "      <td>Braund, Mr. Owen Harris</td>\n",
              "      <td>male</td>\n",
              "      <td>22.0</td>\n",
              "      <td>1</td>\n",
              "      <td>0</td>\n",
              "      <td>A/5 21171</td>\n",
              "      <td>7.2500</td>\n",
              "      <td>NaN</td>\n",
              "      <td>S</td>\n",
              "    </tr>\n",
              "    <tr>\n",
              "      <th>1</th>\n",
              "      <td>2</td>\n",
              "      <td>1</td>\n",
              "      <td>1</td>\n",
              "      <td>Cumings, Mrs. John Bradley (Florence Briggs Th...</td>\n",
              "      <td>female</td>\n",
              "      <td>38.0</td>\n",
              "      <td>1</td>\n",
              "      <td>0</td>\n",
              "      <td>PC 17599</td>\n",
              "      <td>71.2833</td>\n",
              "      <td>C85</td>\n",
              "      <td>C</td>\n",
              "    </tr>\n",
              "    <tr>\n",
              "      <th>2</th>\n",
              "      <td>3</td>\n",
              "      <td>1</td>\n",
              "      <td>3</td>\n",
              "      <td>Heikkinen, Miss. Laina</td>\n",
              "      <td>female</td>\n",
              "      <td>26.0</td>\n",
              "      <td>0</td>\n",
              "      <td>0</td>\n",
              "      <td>STON/O2. 3101282</td>\n",
              "      <td>7.9250</td>\n",
              "      <td>NaN</td>\n",
              "      <td>S</td>\n",
              "    </tr>\n",
              "    <tr>\n",
              "      <th>3</th>\n",
              "      <td>4</td>\n",
              "      <td>1</td>\n",
              "      <td>1</td>\n",
              "      <td>Futrelle, Mrs. Jacques Heath (Lily May Peel)</td>\n",
              "      <td>female</td>\n",
              "      <td>35.0</td>\n",
              "      <td>1</td>\n",
              "      <td>0</td>\n",
              "      <td>113803</td>\n",
              "      <td>53.1000</td>\n",
              "      <td>C123</td>\n",
              "      <td>S</td>\n",
              "    </tr>\n",
              "    <tr>\n",
              "      <th>4</th>\n",
              "      <td>5</td>\n",
              "      <td>0</td>\n",
              "      <td>3</td>\n",
              "      <td>Allen, Mr. William Henry</td>\n",
              "      <td>male</td>\n",
              "      <td>35.0</td>\n",
              "      <td>0</td>\n",
              "      <td>0</td>\n",
              "      <td>373450</td>\n",
              "      <td>8.0500</td>\n",
              "      <td>NaN</td>\n",
              "      <td>S</td>\n",
              "    </tr>\n",
              "  </tbody>\n",
              "</table>\n",
              "</div>"
            ],
            "text/plain": [
              "   PassengerId  Survived  Pclass  ...     Fare Cabin  Embarked\n",
              "0            1         0       3  ...   7.2500   NaN         S\n",
              "1            2         1       1  ...  71.2833   C85         C\n",
              "2            3         1       3  ...   7.9250   NaN         S\n",
              "3            4         1       1  ...  53.1000  C123         S\n",
              "4            5         0       3  ...   8.0500   NaN         S\n",
              "\n",
              "[5 rows x 12 columns]"
            ]
          },
          "metadata": {
            "tags": []
          },
          "execution_count": 2
        }
      ]
    },
    {
      "cell_type": "code",
      "metadata": {
        "colab": {
          "base_uri": "https://localhost:8080/"
        },
        "id": "9Uhu80-Y7PG5",
        "outputId": "57abeb71-ca3f-491c-dbed-38baf2d00ae2"
      },
      "source": [
        "df.info()"
      ],
      "execution_count": 3,
      "outputs": [
        {
          "output_type": "stream",
          "text": [
            "<class 'pandas.core.frame.DataFrame'>\n",
            "RangeIndex: 891 entries, 0 to 890\n",
            "Data columns (total 12 columns):\n",
            " #   Column       Non-Null Count  Dtype  \n",
            "---  ------       --------------  -----  \n",
            " 0   PassengerId  891 non-null    int64  \n",
            " 1   Survived     891 non-null    int64  \n",
            " 2   Pclass       891 non-null    int64  \n",
            " 3   Name         891 non-null    object \n",
            " 4   Sex          891 non-null    object \n",
            " 5   Age          714 non-null    float64\n",
            " 6   SibSp        891 non-null    int64  \n",
            " 7   Parch        891 non-null    int64  \n",
            " 8   Ticket       891 non-null    object \n",
            " 9   Fare         891 non-null    float64\n",
            " 10  Cabin        204 non-null    object \n",
            " 11  Embarked     889 non-null    object \n",
            "dtypes: float64(2), int64(5), object(5)\n",
            "memory usage: 83.7+ KB\n"
          ],
          "name": "stdout"
        }
      ]
    },
    {
      "cell_type": "code",
      "metadata": {
        "id": "74dE_kMq9HzA"
      },
      "source": [
        "df['Age'] = df['Age'].fillna(int(df['Age'].mean())).astype('int64')\n",
        "df['Embarked'] = df['Embarked'].fillna(df['Embarked'].value_counts().index[0])\n",
        "df.drop('PassengerId', axis=1, inplace=True) #since all unique and it does not affect survival rate \n",
        "df.drop('Cabin', axis=1, inplace=True) #almost all are empty and again no effect\n",
        "df.drop('Name', axis=1, inplace=True)  #no effect so drop\n",
        "df.drop('Embarked', axis=1, inplace=True)\n",
        "\n",
        "df['Sex'] = pd.get_dummies(df['Sex'], drop_first=True).rename(columns={'male':'Sex'})\n",
        "df['Fare'] = pd.get_dummies(df['Fare'], drop_first=True)\n",
        "df['Ticket'] = pd.get_dummies(df['Ticket'], drop_first=True)\n",
        "df['Fare'] = pd.get_dummies(df['Fare'], drop_first=True)"
      ],
      "execution_count": 4,
      "outputs": []
    },
    {
      "cell_type": "code",
      "metadata": {
        "id": "AYl0goZ39H1U"
      },
      "source": [
        "X = df.drop('Survived', axis=1)\n",
        "Y = df['Survived']"
      ],
      "execution_count": 5,
      "outputs": []
    },
    {
      "cell_type": "code",
      "metadata": {
        "id": "skSprO_eDh9K"
      },
      "source": [
        "log_reg = LogisticRegression()"
      ],
      "execution_count": 6,
      "outputs": []
    },
    {
      "cell_type": "code",
      "metadata": {
        "id": "3PrOGIkT9H3m"
      },
      "source": [
        "X_train, X_test, y_train, y_test = train_test_split(X, Y, test_size=0.20, random_state=42)"
      ],
      "execution_count": 7,
      "outputs": []
    },
    {
      "cell_type": "code",
      "metadata": {
        "colab": {
          "base_uri": "https://localhost:8080/"
        },
        "id": "q_e-NCOb9H5n",
        "outputId": "aaf28292-7a3d-41ac-afe6-8c102a147e8d"
      },
      "source": [
        "log_reg = LogisticRegression(max_iter=1000)\n",
        "log_reg.fit(X_train, y_train)"
      ],
      "execution_count": 8,
      "outputs": [
        {
          "output_type": "execute_result",
          "data": {
            "text/plain": [
              "LogisticRegression(C=1.0, class_weight=None, dual=False, fit_intercept=True,\n",
              "                   intercept_scaling=1, l1_ratio=None, max_iter=1000,\n",
              "                   multi_class='auto', n_jobs=None, penalty='l2',\n",
              "                   random_state=None, solver='lbfgs', tol=0.0001, verbose=0,\n",
              "                   warm_start=False)"
            ]
          },
          "metadata": {
            "tags": []
          },
          "execution_count": 8
        }
      ]
    },
    {
      "cell_type": "code",
      "metadata": {
        "colab": {
          "base_uri": "https://localhost:8080/"
        },
        "id": "g9lBznjo9H72",
        "outputId": "1d606f1e-e389-4aee-926e-008a44680ef5"
      },
      "source": [
        "train_accuracy = log_reg.score(X_train, y_train)\n",
        "test_accuracy = log_reg.score(X_test, y_test)\n",
        "print('One-vs-rest', '-'*25, \n",
        "      \"Train accuracy: {:.2f}\".format(train_accuracy), \n",
        "      \"Test accuracy: {:.2f}\".format(test_accuracy), sep='\\n')"
      ],
      "execution_count": 9,
      "outputs": [
        {
          "output_type": "stream",
          "text": [
            "One-vs-rest\n",
            "-------------------------\n",
            "Train accuracy: 0.79\n",
            "Test accuracy: 0.82\n"
          ],
          "name": "stdout"
        }
      ]
    },
    {
      "cell_type": "code",
      "metadata": {
        "colab": {
          "base_uri": "https://localhost:8080/"
        },
        "id": "ySwtDk-8EMkt",
        "outputId": "8417f825-d808-4d2c-95e7-51f0bebb821f"
      },
      "source": [
        "log_reg_mnm = LogisticRegression(multi_class='multinomial', solver='lbfgs')\n",
        "log_reg_mnm.fit(X_train, y_train)\n",
        "train_accuracy = log_reg_mnm.score(X_train, y_train)\n",
        "test_accuracy = log_reg_mnm.score(X_train, y_train)\n",
        "print('Multinomial (Softmax)', '-'*25, \n",
        "      \"Train accuracy: {:.2f}\".format(train_accuracy), \n",
        "      \"Test accuracy: {:.2f}\".format(test_accuracy), sep='\\n')"
      ],
      "execution_count": 10,
      "outputs": [
        {
          "output_type": "stream",
          "text": [
            "Multinomial (Softmax)\n",
            "-------------------------\n",
            "Train accuracy: 0.79\n",
            "Test accuracy: 0.79\n"
          ],
          "name": "stdout"
        }
      ]
    },
    {
      "cell_type": "code",
      "metadata": {
        "colab": {
          "base_uri": "https://localhost:8080/",
          "height": 265
        },
        "id": "QNBh-O2h9H9_",
        "outputId": "c8464535-4c2a-426f-d3f3-fbe32359d592"
      },
      "source": [
        "C_values = [0.001,0.01, 0.1,1,10,100, 1000]\n",
        "\n",
        "accuracy_values = pd.DataFrame(columns=['C_values', 'Train Accuracy', 'Test Accuracy'])\n",
        "\n",
        "for c in C_values:\n",
        "    lr = LogisticRegression(max_iter=1000, penalty = 'l2', C = c, random_state = 0, solver='lbfgs')\n",
        "    lr.fit(X_train, y_train)\n",
        "    accuracy_values = accuracy_values.append({'C_values': c,\n",
        "                                              'Train Accuracy': lr.score(X_train, y_train),\n",
        "                                              'Test Accuracy': lr.score(X_test, y_test)\n",
        "                                             }, ignore_index=True)\n",
        "display(accuracy_values)"
      ],
      "execution_count": 11,
      "outputs": [
        {
          "output_type": "display_data",
          "data": {
            "text/html": [
              "<div>\n",
              "<style scoped>\n",
              "    .dataframe tbody tr th:only-of-type {\n",
              "        vertical-align: middle;\n",
              "    }\n",
              "\n",
              "    .dataframe tbody tr th {\n",
              "        vertical-align: top;\n",
              "    }\n",
              "\n",
              "    .dataframe thead th {\n",
              "        text-align: right;\n",
              "    }\n",
              "</style>\n",
              "<table border=\"1\" class=\"dataframe\">\n",
              "  <thead>\n",
              "    <tr style=\"text-align: right;\">\n",
              "      <th></th>\n",
              "      <th>C_values</th>\n",
              "      <th>Train Accuracy</th>\n",
              "      <th>Test Accuracy</th>\n",
              "    </tr>\n",
              "  </thead>\n",
              "  <tbody>\n",
              "    <tr>\n",
              "      <th>0</th>\n",
              "      <td>0.001</td>\n",
              "      <td>0.623596</td>\n",
              "      <td>0.586592</td>\n",
              "    </tr>\n",
              "    <tr>\n",
              "      <th>1</th>\n",
              "      <td>0.010</td>\n",
              "      <td>0.755618</td>\n",
              "      <td>0.765363</td>\n",
              "    </tr>\n",
              "    <tr>\n",
              "      <th>2</th>\n",
              "      <td>0.100</td>\n",
              "      <td>0.786517</td>\n",
              "      <td>0.821229</td>\n",
              "    </tr>\n",
              "    <tr>\n",
              "      <th>3</th>\n",
              "      <td>1.000</td>\n",
              "      <td>0.785112</td>\n",
              "      <td>0.815642</td>\n",
              "    </tr>\n",
              "    <tr>\n",
              "      <th>4</th>\n",
              "      <td>10.000</td>\n",
              "      <td>0.786517</td>\n",
              "      <td>0.810056</td>\n",
              "    </tr>\n",
              "    <tr>\n",
              "      <th>5</th>\n",
              "      <td>100.000</td>\n",
              "      <td>0.786517</td>\n",
              "      <td>0.810056</td>\n",
              "    </tr>\n",
              "    <tr>\n",
              "      <th>6</th>\n",
              "      <td>1000.000</td>\n",
              "      <td>0.786517</td>\n",
              "      <td>0.810056</td>\n",
              "    </tr>\n",
              "  </tbody>\n",
              "</table>\n",
              "</div>"
            ],
            "text/plain": [
              "   C_values  Train Accuracy  Test Accuracy\n",
              "0     0.001        0.623596       0.586592\n",
              "1     0.010        0.755618       0.765363\n",
              "2     0.100        0.786517       0.821229\n",
              "3     1.000        0.785112       0.815642\n",
              "4    10.000        0.786517       0.810056\n",
              "5   100.000        0.786517       0.810056\n",
              "6  1000.000        0.786517       0.810056"
            ]
          },
          "metadata": {
            "tags": []
          }
        }
      ]
    },
    {
      "cell_type": "code",
      "metadata": {
        "id": "ddqEc1LQ9IAq"
      },
      "source": [
        "X = df[['Pclass', 'Sex', 'Age', 'SibSp', 'Parch']]\n",
        "Y = df['Survived']"
      ],
      "execution_count": 12,
      "outputs": []
    },
    {
      "cell_type": "code",
      "metadata": {
        "id": "Hi0h5AYA8aiE"
      },
      "source": [
        "log_reg = LogisticRegression()"
      ],
      "execution_count": 13,
      "outputs": []
    },
    {
      "cell_type": "code",
      "metadata": {
        "id": "TRbxZdFEGqW3"
      },
      "source": [
        "X_train, X_test, y_train, y_test = train_test_split(X, Y, test_size=0.20, random_state=42)"
      ],
      "execution_count": 14,
      "outputs": []
    },
    {
      "cell_type": "code",
      "metadata": {
        "colab": {
          "base_uri": "https://localhost:8080/"
        },
        "id": "VDP7nlGfGqZH",
        "outputId": "c906529b-80d3-4080-fac9-374dfea06a5c"
      },
      "source": [
        "log_reg = LogisticRegression(max_iter=1000)\n",
        "log_reg.fit(X_train, y_train)"
      ],
      "execution_count": 15,
      "outputs": [
        {
          "output_type": "execute_result",
          "data": {
            "text/plain": [
              "LogisticRegression(C=1.0, class_weight=None, dual=False, fit_intercept=True,\n",
              "                   intercept_scaling=1, l1_ratio=None, max_iter=1000,\n",
              "                   multi_class='auto', n_jobs=None, penalty='l2',\n",
              "                   random_state=None, solver='lbfgs', tol=0.0001, verbose=0,\n",
              "                   warm_start=False)"
            ]
          },
          "metadata": {
            "tags": []
          },
          "execution_count": 15
        }
      ]
    },
    {
      "cell_type": "code",
      "metadata": {
        "colab": {
          "base_uri": "https://localhost:8080/"
        },
        "id": "_M9jGX4SGqbO",
        "outputId": "2690188d-f109-419d-87a2-0eb497995a17"
      },
      "source": [
        "train_accuracy = log_reg.score(X_train, y_train)\n",
        "test_accuracy = log_reg.score(X_test, y_test)\n",
        "print('One-vs-rest', '-'*25, \n",
        "      \"Train accuracy: {:.2f}\".format(train_accuracy), \n",
        "      \"Test accuracy: {:.2f}\".format(test_accuracy), sep='\\n')"
      ],
      "execution_count": 16,
      "outputs": [
        {
          "output_type": "stream",
          "text": [
            "One-vs-rest\n",
            "-------------------------\n",
            "Train accuracy: 0.79\n",
            "Test accuracy: 0.82\n"
          ],
          "name": "stdout"
        }
      ]
    },
    {
      "cell_type": "code",
      "metadata": {
        "colab": {
          "base_uri": "https://localhost:8080/"
        },
        "id": "cuixSRVHGqdl",
        "outputId": "22649298-e79b-4be5-e438-dabbed4b1109"
      },
      "source": [
        "log_reg_mnm = LogisticRegression(multi_class='multinomial', solver='lbfgs')\n",
        "log_reg_mnm.fit(X_train, y_train)\n",
        "train_accuracy = log_reg_mnm.score(X_train, y_train)\n",
        "test_accuracy = log_reg_mnm.score(X_train, y_train)\n",
        "print('Multinomial (Softmax)', '-'*25, \n",
        "      \"Train accuracy: {:.2f}\".format(train_accuracy), \n",
        "      \"Test accuracy: {:.2f}\".format(test_accuracy), sep='\\n')"
      ],
      "execution_count": 17,
      "outputs": [
        {
          "output_type": "stream",
          "text": [
            "Multinomial (Softmax)\n",
            "-------------------------\n",
            "Train accuracy: 0.79\n",
            "Test accuracy: 0.79\n"
          ],
          "name": "stdout"
        }
      ]
    },
    {
      "cell_type": "code",
      "metadata": {
        "colab": {
          "base_uri": "https://localhost:8080/",
          "height": 265
        },
        "id": "oLxMU0jmGqfc",
        "outputId": "92eaab42-283b-4787-e2d7-5eac44bc518a"
      },
      "source": [
        "C_values = [0.001,0.01, 0.1,1,10,100, 1000]\n",
        "\n",
        "accuracy_values = pd.DataFrame(columns=['C_values', 'Train Accuracy', 'Test Accuracy'])\n",
        "\n",
        "for c in C_values:\n",
        "    lr = LogisticRegression(max_iter=1000, penalty = 'l2', C = c, random_state = 0, solver='lbfgs')\n",
        "    lr.fit(X_train, y_train)\n",
        "    accuracy_values = accuracy_values.append({'C_values': c,\n",
        "                                              'Train Accuracy': lr.score(X_train, y_train),\n",
        "                                              'Test Accuracy': lr.score(X_test, y_test)\n",
        "                                             }, ignore_index=True)\n",
        "display(accuracy_values)"
      ],
      "execution_count": 18,
      "outputs": [
        {
          "output_type": "display_data",
          "data": {
            "text/html": [
              "<div>\n",
              "<style scoped>\n",
              "    .dataframe tbody tr th:only-of-type {\n",
              "        vertical-align: middle;\n",
              "    }\n",
              "\n",
              "    .dataframe tbody tr th {\n",
              "        vertical-align: top;\n",
              "    }\n",
              "\n",
              "    .dataframe thead th {\n",
              "        text-align: right;\n",
              "    }\n",
              "</style>\n",
              "<table border=\"1\" class=\"dataframe\">\n",
              "  <thead>\n",
              "    <tr style=\"text-align: right;\">\n",
              "      <th></th>\n",
              "      <th>C_values</th>\n",
              "      <th>Train Accuracy</th>\n",
              "      <th>Test Accuracy</th>\n",
              "    </tr>\n",
              "  </thead>\n",
              "  <tbody>\n",
              "    <tr>\n",
              "      <th>0</th>\n",
              "      <td>0.001</td>\n",
              "      <td>0.623596</td>\n",
              "      <td>0.586592</td>\n",
              "    </tr>\n",
              "    <tr>\n",
              "      <th>1</th>\n",
              "      <td>0.010</td>\n",
              "      <td>0.755618</td>\n",
              "      <td>0.765363</td>\n",
              "    </tr>\n",
              "    <tr>\n",
              "      <th>2</th>\n",
              "      <td>0.100</td>\n",
              "      <td>0.786517</td>\n",
              "      <td>0.821229</td>\n",
              "    </tr>\n",
              "    <tr>\n",
              "      <th>3</th>\n",
              "      <td>1.000</td>\n",
              "      <td>0.785112</td>\n",
              "      <td>0.815642</td>\n",
              "    </tr>\n",
              "    <tr>\n",
              "      <th>4</th>\n",
              "      <td>10.000</td>\n",
              "      <td>0.785112</td>\n",
              "      <td>0.810056</td>\n",
              "    </tr>\n",
              "    <tr>\n",
              "      <th>5</th>\n",
              "      <td>100.000</td>\n",
              "      <td>0.786517</td>\n",
              "      <td>0.810056</td>\n",
              "    </tr>\n",
              "    <tr>\n",
              "      <th>6</th>\n",
              "      <td>1000.000</td>\n",
              "      <td>0.786517</td>\n",
              "      <td>0.810056</td>\n",
              "    </tr>\n",
              "  </tbody>\n",
              "</table>\n",
              "</div>"
            ],
            "text/plain": [
              "   C_values  Train Accuracy  Test Accuracy\n",
              "0     0.001        0.623596       0.586592\n",
              "1     0.010        0.755618       0.765363\n",
              "2     0.100        0.786517       0.821229\n",
              "3     1.000        0.785112       0.815642\n",
              "4    10.000        0.785112       0.810056\n",
              "5   100.000        0.786517       0.810056\n",
              "6  1000.000        0.786517       0.810056"
            ]
          },
          "metadata": {
            "tags": []
          }
        }
      ]
    },
    {
      "cell_type": "markdown",
      "metadata": {
        "id": "zEouWr8ULuUB"
      },
      "source": [
        "#Normalization"
      ]
    },
    {
      "cell_type": "code",
      "metadata": {
        "colab": {
          "base_uri": "https://localhost:8080/"
        },
        "id": "IIY0TBqw-qxu",
        "outputId": "073f8f6e-dbf1-4c9d-f3b0-99a5051ed23e"
      },
      "source": [
        "normalizer = Normalizer()\n",
        "X_normalized = normalizer.fit_transform(X)\n",
        "X_train, X_test, y_train, y_test = train_test_split(X_normalized, Y, test_size=0.20, random_state=42)\n",
        "\n",
        "log_reg  = LogisticRegression(max_iter=1000)\n",
        "log_reg .fit(X_train, y_train)\n",
        "\n",
        "train_accuracy_norm = log_reg .score(X_train, y_train)\n",
        "test_accuracy_norm = log_reg .score(X_test, y_test)\n",
        "\n",
        "print(\"Train accuracy: {}\".format(train_accuracy))\n",
        "print(\"Test accuracy: {}\\n\".format(test_accuracy))\n",
        "print(\"Train accuracy (Normalized): {}\".format(train_accuracy_norm))\n",
        "print(\"Test accuracy (Normalized): {}\".format(test_accuracy_norm))"
      ],
      "execution_count": 19,
      "outputs": [
        {
          "output_type": "stream",
          "text": [
            "Train accuracy: 0.7851123595505618\n",
            "Test accuracy: 0.7851123595505618\n",
            "\n",
            "Train accuracy (Normalized): 0.6446629213483146\n",
            "Test accuracy (Normalized): 0.5921787709497207\n"
          ],
          "name": "stdout"
        }
      ]
    },
    {
      "cell_type": "code",
      "metadata": {
        "colab": {
          "base_uri": "https://localhost:8080/"
        },
        "id": "5JdOKvgl-q0L",
        "outputId": "5ecae42b-886b-4fd5-e24c-064104f0d279"
      },
      "source": [
        "scaler = StandardScaler()\n",
        "X_scaled = scaler.fit_transform(X)\n",
        "X_train, X_test, y_train, y_test = train_test_split(X_scaled, Y, test_size=0.20, random_state=42)\n",
        "\n",
        "log_reg  = LogisticRegression(max_iter=1000)\n",
        "log_reg .fit(X_train, y_train)\n",
        "\n",
        "train_accuracy_std = lr.score(X_train, y_train)\n",
        "test_accuracy_std = log_reg .score(X_test, y_test)\n",
        "\n",
        "print(\"Train accuracy: {}\".format(train_accuracy))\n",
        "print(\"Test accuracy: {}\\n\".format(test_accuracy))\n",
        "print(\"Train accuracy (Standardized): {}\".format(train_accuracy_std))\n",
        "print(\"Test accuracy (Standardized): {}\".format(test_accuracy_std))"
      ],
      "execution_count": 20,
      "outputs": [
        {
          "output_type": "stream",
          "text": [
            "Train accuracy: 0.7851123595505618\n",
            "Test accuracy: 0.7851123595505618\n",
            "\n",
            "Train accuracy (Standardized): 0.38202247191011235\n",
            "Test accuracy (Standardized): 0.8100558659217877\n"
          ],
          "name": "stdout"
        }
      ]
    }
  ]
}