{
  "nbformat": 4,
  "nbformat_minor": 0,
  "metadata": {
    "colab": {
      "name": "A_01_what_is_classification.ipynb",
      "provenance": [],
      "collapsed_sections": []
    },
    "kernelspec": {
      "name": "python3",
      "display_name": "Python 3"
    },
    "language_info": {
      "name": "python"
    }
  },
  "cells": [
    {
      "cell_type": "markdown",
      "metadata": {
        "id": "MtFXK6mIoh7W"
      },
      "source": [
        "Determine whether the following examples are classification problems or regression problems:\n",
        "\n",
        "- Given the size of the house, estimating the price of it, <b>*(Regression)*</b>\n",
        "- From the clothes of those who come to see the house, to conclude who has a high or low probability of buying the house, <b>*(Classification)*</b>\n",
        "- Using parameters such as location and date, calculate the probability of rain, <b>*(Regression)*</b> \n",
        "- Estimating a one's salary using parameters such as education and experience, <b>*(Regression)*</b>\n",
        "- Estimation one's age, <b>*(Classification)*</b>\n",
        "- Estimation one's income, <b>*(Regression)* </b>\n",
        "- Estimate the direction of price of any stock. <b>*(Classification)*</b>"
      ]
    }
  ]
}