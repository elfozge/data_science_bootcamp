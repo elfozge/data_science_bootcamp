{
  "nbformat": 4,
  "nbformat_minor": 0,
  "metadata": {
    "kernelspec": {
      "display_name": "Python 3",
      "language": "python",
      "name": "python3"
    },
    "language_info": {
      "codemirror_mode": {
        "name": "ipython",
        "version": 3
      },
      "file_extension": ".py",
      "mimetype": "text/x-python",
      "name": "python",
      "nbconvert_exporter": "python",
      "pygments_lexer": "ipython3",
      "version": "3.7.3"
    },
    "colab": {
      "name": "FilteringDataFrames.ipynb",
      "provenance": []
    }
  },
  "cells": [
    {
      "cell_type": "markdown",
      "metadata": {
        "id": "nBP_RlM0J-ZP"
      },
      "source": [
        "For Pandas assignments, you are going to use [Titanic](https://www.kaggle.com/c/titanic/download/GQf0y8ebHO0C4JXscPPp%2Fversions%2FXkNkvXwqPPVG0Qt3MtQT%2Ffiles%2Ftrain.csv) (train.csv) dataset. Download the dataset and load to a DataFrame.\n",
        "\n",
        "**(1)** By using conditional selection methods, calculate the survival rate for all passengers under 30 years old.\n"
      ]
    },
    {
      "cell_type": "code",
      "metadata": {
        "id": "i7ShUxB2J-ZU",
        "colab": {
          "base_uri": "https://localhost:8080/"
        },
        "outputId": "b48d8dc4-0cca-497a-ff05-72fd0755c4b1"
      },
      "source": [
        "import pandas as pd\n",
        "import numpy as np\n",
        "titanic = pd.read_csv(\"https://storage.googleapis.com/tf-datasets/titanic/train.csv\", index_col=0)\n",
        "titanic2 = pd.DataFrame(titanic)\n",
        "df = titanic2[(titanic2['age'] < 30)] #select passengers whose age is under 30.\n",
        "print(\"The survival rate (percentage) for all passengers under 30 years old is {} \".format(len(df.loc[1])*100 / len(df)))"
      ],
      "execution_count": null,
      "outputs": [
        {
          "output_type": "stream",
          "text": [
            "The survival rate (percentage) for all passengers under 30 years old is 37.69230769230769 \n"
          ],
          "name": "stdout"
        }
      ]
    },
    {
      "cell_type": "markdown",
      "metadata": {
        "id": "3qp1fQTlJ-ZU"
      },
      "source": [
        "**(2)** Calculate the survival rate by gender."
      ]
    },
    {
      "cell_type": "code",
      "metadata": {
        "id": "pQbhYzjwJ-ZV",
        "colab": {
          "base_uri": "https://localhost:8080/"
        },
        "outputId": "55f81665-3135-4ff4-83a6-f2ea7c20af03"
      },
      "source": [
        "df_female = titanic2[titanic2['sex'] == 'female'] #select female passengers \n",
        "df_male = titanic2[titanic2['sex'] == 'male'] #select male passengers \n",
        "print(\"The survival rate (percentage) for females is {} \".format(len(df_female.loc[1])*100 / len(titanic2)))\n",
        "print(\"The survival rate (percentage) for males is {} \".format(len(df_male.loc[1])*100 / len(titanic2)))"
      ],
      "execution_count": null,
      "outputs": [
        {
          "output_type": "stream",
          "text": [
            "The survival rate (percentage) for females is 26.953748006379584 \n",
            "The survival rate (percentage) for males is 11.802232854864434 \n"
          ],
          "name": "stdout"
        }
      ]
    }
  ]
}