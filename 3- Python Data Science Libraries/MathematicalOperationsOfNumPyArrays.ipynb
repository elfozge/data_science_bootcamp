{
  "nbformat": 4,
  "nbformat_minor": 0,
  "metadata": {
    "kernelspec": {
      "display_name": "Python 3",
      "language": "python",
      "name": "python3"
    },
    "language_info": {
      "codemirror_mode": {
        "name": "ipython",
        "version": 3
      },
      "file_extension": ".py",
      "mimetype": "text/x-python",
      "name": "python",
      "nbconvert_exporter": "python",
      "pygments_lexer": "ipython3",
      "version": "3.8.2"
    },
    "colab": {
      "name": "MathematicalOperationsONumPyArrays.ipynb",
      "provenance": [],
      "include_colab_link": true
    }
  },
  "cells": [
    {
      "cell_type": "markdown",
      "metadata": {
        "id": "view-in-github",
        "colab_type": "text"
      },
      "source": [
        "<a href=\"https://colab.research.google.com/github/elfozge/data_science_bootcamp/blob/main/MathematicalOperationsOfNumPyArrays.ipynb\" target=\"_parent\"><img src=\"https://colab.research.google.com/assets/colab-badge.svg\" alt=\"Open In Colab\"/></a>"
      ]
    },
    {
      "cell_type": "markdown",
      "metadata": {
        "id": "JAPogkdlfI1n"
      },
      "source": [
        "**(1)** Load the array you saved in the previous lesson from the disk."
      ]
    },
    {
      "cell_type": "code",
      "metadata": {
        "colab": {
          "base_uri": "https://localhost:8080/"
        },
        "id": "ZyiVkRapfI1r",
        "outputId": "b838655e-b212-47ed-96f8-bf6bcb71fda2"
      },
      "source": [
        "import pandas as pd\n",
        "import numpy as np\n",
        "array = np.load(\"array_b.npy\")\n",
        "print(array)"
      ],
      "execution_count": null,
      "outputs": [
        {
          "output_type": "stream",
          "text": [
            "[[ 1.      1.      1.      1.      1.    ]\n",
            " [ 0.     36.0535 31.2135 36.68    5.2   ]\n",
            " [ 0.     37.1958 30.6241 50.33    4.8   ]\n",
            " [ 0.     37.3773 36.3855 10.53    4.8   ]\n",
            " [ 0.     35.8861 26.0695 28.49    4.9   ]\n",
            " [ 0.     37.6546 26.6698  4.5     4.5   ]\n",
            " [ 0.     37.5318 29.848  17.58    4.6   ]\n",
            " [ 0.     39.0388 44.1533  7.52    4.5   ]]\n"
          ],
          "name": "stdout"
        }
      ]
    },
    {
      "cell_type": "markdown",
      "metadata": {
        "id": "WQjsB8SxfI1r"
      },
      "source": [
        "**(2)** Display the mean and the standard deviation for each column."
      ]
    },
    {
      "cell_type": "code",
      "metadata": {
        "colab": {
          "base_uri": "https://localhost:8080/"
        },
        "id": "NBku1Y2EfI1s",
        "outputId": "7b4d829e-67c0-46ac-c223-12e1ed87cf7d"
      },
      "source": [
        "print(array.mean(axis=0))\n",
        "print(array.std(axis=0))"
      ],
      "execution_count": null,
      "outputs": [
        {
          "output_type": "stream",
          "text": [
            "[ 0.125     32.7172375 28.2454625 19.57875    4.2875   ]\n",
            "[ 0.33071891 12.02314907 11.65057695 16.28392416  1.26138565]\n"
          ],
          "name": "stdout"
        }
      ]
    },
    {
      "cell_type": "markdown",
      "metadata": {
        "id": "9rmQkTaAfI1s"
      },
      "source": [
        "**(3)** Subtract 1, 25, 25, 10, 4 from columns in order. (Remember it can be subtracted in one line of code.)"
      ]
    },
    {
      "cell_type": "code",
      "metadata": {
        "colab": {
          "base_uri": "https://localhost:8080/"
        },
        "id": "vjqLx7bWfI1s",
        "outputId": "1f97805a-fa56-4d39-c114-609a5c8b91e7"
      },
      "source": [
        "print(array - np.array([ 1, 25, 25, 10, 4]))"
      ],
      "execution_count": null,
      "outputs": [
        {
          "output_type": "stream",
          "text": [
            "[[  0.     -24.     -24.      -9.      -3.    ]\n",
            " [ -1.      11.0535   6.2135  26.68     1.2   ]\n",
            " [ -1.      12.1958   5.6241  40.33     0.8   ]\n",
            " [ -1.      12.3773  11.3855   0.53     0.8   ]\n",
            " [ -1.      10.8861   1.0695  18.49     0.9   ]\n",
            " [ -1.      12.6546   1.6698  -5.5      0.5   ]\n",
            " [ -1.      12.5318   4.848    7.58     0.6   ]\n",
            " [ -1.      14.0388  19.1533  -2.48     0.5   ]]\n"
          ],
          "name": "stdout"
        }
      ]
    },
    {
      "cell_type": "markdown",
      "metadata": {
        "id": "CjkcswiofI1s"
      },
      "source": [
        "**(4)** Multiply each element by 2. (Remember it can be multiplied in one line of code.)"
      ]
    },
    {
      "cell_type": "code",
      "metadata": {
        "colab": {
          "base_uri": "https://localhost:8080/"
        },
        "id": "oVRafkaBfI1s",
        "outputId": "176515b4-d24f-4c40-b203-70d68b26544e"
      },
      "source": [
        "print(array*2)"
      ],
      "execution_count": null,
      "outputs": [
        {
          "output_type": "stream",
          "text": [
            "[[  2.       2.       2.       2.       2.    ]\n",
            " [  0.      72.107   62.427   73.36    10.4   ]\n",
            " [  0.      74.3916  61.2482 100.66     9.6   ]\n",
            " [  0.      74.7546  72.771   21.06     9.6   ]\n",
            " [  0.      71.7722  52.139   56.98     9.8   ]\n",
            " [  0.      75.3092  53.3396   9.       9.    ]\n",
            " [  0.      75.0636  59.696   35.16     9.2   ]\n",
            " [  0.      78.0776  88.3066  15.04     9.    ]]\n"
          ],
          "name": "stdout"
        }
      ]
    }
  ]
}