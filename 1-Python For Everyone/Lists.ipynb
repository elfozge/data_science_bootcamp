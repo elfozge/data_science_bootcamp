{
  "nbformat": 4,
  "nbformat_minor": 0,
  "metadata": {
    "kernelspec": {
      "display_name": "Python 3",
      "language": "python",
      "name": "python3"
    },
    "language_info": {
      "codemirror_mode": {
        "name": "ipython",
        "version": 3
      },
      "file_extension": ".py",
      "mimetype": "text/x-python",
      "name": "python",
      "nbconvert_exporter": "python",
      "pygments_lexer": "ipython3",
      "version": "3.8.7"
    },
    "colab": {
      "name": "Lists.ipynb",
      "provenance": [],
      "collapsed_sections": []
    }
  },
  "cells": [
    {
      "cell_type": "markdown",
      "metadata": {
        "id": "LakZ65ATJsd8"
      },
      "source": [
        "**1.** Write a code to compute the sum of the two lowest numbers and the two highest numbers in the following list.\n",
        "\n",
        "        my_list = [34, 56, 76, 45, 2, 12, 67, 98, 37, 54, 66]"
      ]
    },
    {
      "cell_type": "code",
      "metadata": {
        "id": "UU89bFQ4JseA",
        "colab": {
          "base_uri": "https://localhost:8080/"
        },
        "outputId": "b6085830-9b58-46c4-dfd0-a57473885cd7"
      },
      "source": [
        "my_list = [34, 56, 76, 45, 2, 12, 67, 98, 37, 54, 66]\n",
        "my_list.sort()\n",
        "print(sum(my_list[:2] + my_list[-2:]))"
      ],
      "execution_count": null,
      "outputs": [
        {
          "output_type": "stream",
          "text": [
            "188\n"
          ],
          "name": "stdout"
        }
      ]
    },
    {
      "cell_type": "markdown",
      "metadata": {
        "id": "QtXqVytEJseB"
      },
      "source": [
        "**2.** The following two lists contain student names and scores. Write a code that gets the name from the user and prints the score of that student.\n",
        "\n",
        "        names = [\"David\", \"Michael\", \"John\", \"James\", \"Greg\", \"Mark\", \n",
        "                 \"William\", \"Richard\", \"Thomas\", \"Steven\", \n",
        "                 \"Mary\", \"Susan\", \"Maria\", \"Karen\", \"Lisa\", \"Linda\", \n",
        "                 \"Donna\", \"Patricia\", \"Debra\", \"Eric\"]\n",
        "\n",
        "        scores = [95, 87, 78, 86, 68, 94, 76, 97, 56, 98, 76, \n",
        "                  87, 79, 90, 73, 93, 82, 69, 97, 98]"
      ]
    },
    {
      "cell_type": "code",
      "metadata": {
        "id": "_MMRmVxLJseC",
        "colab": {
          "base_uri": "https://localhost:8080/"
        },
        "outputId": "08d987de-5ca8-4a0c-d561-2ff03aa74e0a"
      },
      "source": [
        "names = [\"David\", \"Michael\", \"John\", \"James\", \"Greg\", \"Mark\", \n",
        "             \"William\", \"Richard\", \"Thomas\", \"Steven\", \n",
        "             \"Mary\", \"Susan\", \"Maria\", \"Karen\", \"Lisa\", \"Linda\", \n",
        "             \"Donna\", \"Patricia\", \"Debra\", \"Eric\"]\n",
        " \n",
        "scores = [95, 87, 78, 86, 68, 94, 76, 97, 56, 98, 76, \n",
        "              87, 79, 90, 73, 93, 82, 69, 97, 98]\n",
        "    \n",
        "deger = names.index(input())\n",
        "print(\"Score of {} is {} \".format(names[deger],scores[deger]))"
      ],
      "execution_count": null,
      "outputs": [
        {
          "output_type": "stream",
          "text": [
            "David\n",
            "Score of David is 95 \n"
          ],
          "name": "stdout"
        }
      ]
    },
    {
      "cell_type": "markdown",
      "metadata": {
        "id": "tMnwcJPFJseC"
      },
      "source": [
        "**3.** By using the two lists above, what is the maximum score and how many students got that score?"
      ]
    },
    {
      "cell_type": "code",
      "metadata": {
        "id": "HKfhHLCpJseC",
        "colab": {
          "base_uri": "https://localhost:8080/"
        },
        "outputId": "42d43e3c-0dd6-4b44-cb7a-df5dd31610c6"
      },
      "source": [
        "scores.sort(reverse=True)\n",
        "print(\"Max score : \", scores[0])\n",
        "print(\"Number of student with max score : \", scores.count(scores[0]))"
      ],
      "execution_count": null,
      "outputs": [
        {
          "output_type": "stream",
          "text": [
            "Max score :  98\n",
            "Number of student with max score :  2\n"
          ],
          "name": "stdout"
        }
      ]
    },
    {
      "cell_type": "markdown",
      "metadata": {
        "id": "IzAWewByJseC"
      },
      "source": [
        "**4.** We can confuse about how many days a month is. Create a list to handle it. You will have month names and day counts in your list together as a nested list."
      ]
    },
    {
      "cell_type": "code",
      "metadata": {
        "id": "NejUzFx6JseD",
        "colab": {
          "base_uri": "https://localhost:8080/"
        },
        "outputId": "2bb96eaf-f876-4bda-e5a6-ad75ebd48613"
      },
      "source": [
        "months = [['January', 31], ['February', 28], ['March', 31], ['April', 30], ['May', 31], ['June', 30], ['July', 31], ['August', 31], ['September', 30], ['October', 31], ['November', 30], ['December', 31]]\n",
        "print(months)"
      ],
      "execution_count": null,
      "outputs": [
        {
          "output_type": "stream",
          "text": [
            "[['January', 31], ['February', 28], ['March', 31], ['April', 30], ['May', 31], ['June', 30], ['July', 31], ['August', 31], ['September', 30], ['October', 31], ['November', 30], ['December', 31]]\n"
          ],
          "name": "stdout"
        }
      ]
    },
    {
      "cell_type": "markdown",
      "metadata": {
        "id": "IHz0DKaUJseD"
      },
      "source": [
        "**5.** Now create lists of months for each season. Get month names and day counts from the list that you create before with slicing. Name the lists with seasons."
      ]
    },
    {
      "cell_type": "code",
      "metadata": {
        "id": "3uf4NszCJseD",
        "colab": {
          "base_uri": "https://localhost:8080/"
        },
        "outputId": "ac6bcf3b-3ca9-4391-ee29-1b24326d5a37"
      },
      "source": [
        "spring = months[2:5]\n",
        "summer = months[5:8]\n",
        "fall =months[8:11]\n",
        "winter = months[-1:] + months[0:2]\n",
        "print(\"Spring: \", spring)\n",
        "print(\"Summer: \", summer)\n",
        "print(\"Fall: \", fall)\n",
        "print(\"Winter: \", winter)"
      ],
      "execution_count": null,
      "outputs": [
        {
          "output_type": "stream",
          "text": [
            "Spring:  [['March', 31], ['April', 30], ['May', 31]]\n",
            "Summer:  [['June', 30], ['July', 31], ['August', 31]]\n",
            "Fall:  [['September', 30], ['October', 31], ['November', 30]]\n",
            "Winter:  [['December', 31], ['January', 31], ['February', 28]]\n"
          ],
          "name": "stdout"
        }
      ]
    },
    {
      "cell_type": "markdown",
      "metadata": {
        "id": "nnrgZ7zBJseD"
      },
      "source": [
        "**6.** Finally, from the list in the previous question, calculate how many days the summer season lasts."
      ]
    },
    {
      "cell_type": "code",
      "metadata": {
        "id": "0fdTZnL5JseD",
        "colab": {
          "base_uri": "https://localhost:8080/"
        },
        "outputId": "696f0a5a-f611-4694-c460-4e234337d66c"
      },
      "source": [
        "print(\"Summer lasts {} days.\".format(sum(c[1] for c in summer)))\n",
        "\n",
        "print(\"--\"*10)\n",
        "\n",
        "summer_length = summer[0][1] + summer[1][1] + summer[2][1]\n",
        "print(\"Summer lasts {} days\".format(summer_length))"
      ],
      "execution_count": null,
      "outputs": [
        {
          "output_type": "stream",
          "text": [
            "Summer lasts 92 days.\n",
            "--------------------\n",
            "Summer lasts 92 days\n"
          ],
          "name": "stdout"
        }
      ]
    }
  ]
}