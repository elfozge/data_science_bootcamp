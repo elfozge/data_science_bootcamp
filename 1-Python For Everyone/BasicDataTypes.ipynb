{
  "nbformat": 4,
  "nbformat_minor": 0,
  "metadata": {
    "colab": {
      "name": "ElifÖzgeOlgaç - BasicDataTypes_en.ipynb ",
      "provenance": [],
      "include_colab_link": true
    },
    "kernelspec": {
      "display_name": "Python 3",
      "language": "python",
      "name": "python3"
    },
    "language_info": {
      "codemirror_mode": {
        "name": "ipython",
        "version": 3
      },
      "file_extension": ".py",
      "mimetype": "text/x-python",
      "name": "python",
      "nbconvert_exporter": "python",
      "pygments_lexer": "ipython3",
      "version": "3.8.7"
    }
  },
  "cells": [
    {
      "cell_type": "markdown",
      "metadata": {
        "id": "view-in-github",
        "colab_type": "text"
      },
      "source": [
        "<a href=\"https://colab.research.google.com/github/elfozge/data_science_bootcamp/blob/main/BasicDataTypes.ipynb\" target=\"_parent\"><img src=\"https://colab.research.google.com/assets/colab-badge.svg\" alt=\"Open In Colab\"/></a>"
      ]
    },
    {
      "cell_type": "markdown",
      "metadata": {
        "id": "2MnBfHrhkY_W"
      },
      "source": [
        "**(1)** Suppose you invested in Bitcoin at the end of 2017 when Bitcoin gained a lot of value. What would be your money at the end of a week if you had invested \\$1000 with an average daily increase of 12\\% ? You can solve the problem using Python."
      ]
    },
    {
      "cell_type": "code",
      "metadata": {
        "id": "tP-N3xXAn9eh",
        "colab": {
          "base_uri": "https://localhost:8080/"
        },
        "outputId": "dcf40278-a72a-4fec-911f-a23c55419087"
      },
      "source": [
        "interest = 1000 * (1 + 0.12) ** 7\n",
        "print(interest)"
      ],
      "execution_count": null,
      "outputs": [
        {
          "output_type": "stream",
          "text": [
            "2210.6814074060812\n"
          ],
          "name": "stdout"
        }
      ]
    },
    {
      "cell_type": "markdown",
      "metadata": {
        "id": "Kk0vsyA9kY_X"
      },
      "source": [
        "**(2)**  Print the text in quotes with Python. However, you must get the numbers from variables using `.format()` notation. <br> Because the text is long, you might consider writing in two lines:\n",
        "\n",
        "        `\"When we buy bitcoin with 1000 USD at the beginning of the week, we would earn 1210.68 USD at the end of the week, with an average gain of 12\\%.\"`"
      ]
    },
    {
      "cell_type": "code",
      "metadata": {
        "id": "iZIxFMiHn9ei",
        "colab": {
          "base_uri": "https://localhost:8080/"
        },
        "outputId": "b850833b-cbac-444c-de67-72ffcb06e3b9"
      },
      "source": [
        "money = 1000\n",
        "earn_money = 1210.68\n",
        "increase = 12\n",
        "print(\"When we buy bitcoin with {} USD at the beginning of the week, \\\n",
        "we would earn {} USD at the end of the week, with an average gain of {}\\%.\". format(money, earn_money, increase))"
      ],
      "execution_count": null,
      "outputs": [
        {
          "output_type": "stream",
          "text": [
            "When we buy bitcoin with 1000 USD at the beginning of the week, we would earn 1210.68 USD at the end of the week, with an average gain of 12\\%.\n"
          ],
          "name": "stdout"
        }
      ]
    },
    {
      "cell_type": "markdown",
      "metadata": {
        "id": "UifLXZilkY_Y"
      },
      "source": [
        "**(3)**  Get the temperature in Fahrenheit from user and write a code to convert it to Celcius. For conversion, you can use this formula: C = (5/9) * (F - 32)\n",
        "\n",
        "        Enter the temperature in Fahrenheit: \n",
        "        user --> 26\n",
        "        output --> Temperature (C) : -3.33"
      ]
    },
    {
      "cell_type": "code",
      "metadata": {
        "id": "btT_wou9n9ej",
        "colab": {
          "base_uri": "https://localhost:8080/"
        },
        "outputId": "3977b658-bc9a-4913-efee-251c84c90b4a"
      },
      "source": [
        "temp = input(\"Enter the temperature in Fahrenheit:  \")\n",
        "temp_c = (int(temp) - 32) * 0.5556\n",
        "print(\"Temperature (C) : {:.2f} \" .format(temp_c))"
      ],
      "execution_count": null,
      "outputs": [
        {
          "output_type": "stream",
          "text": [
            "Enter the temperature in Fahrenheit:  26\n",
            "Temperature (C) : -3.33 \n"
          ],
          "name": "stdout"
        }
      ]
    },
    {
      "cell_type": "markdown",
      "metadata": {
        "id": "IJSruOwzkY_Y"
      },
      "source": [
        "**(4)**  Get a three digit number the from user and calculate the sum of the \n",
        "digits in the integer.\n",
        "\n",
        "        user --> 365\n",
        "        output --> \"The sum of digits in the number is 14"
      ]
    },
    {
      "cell_type": "code",
      "metadata": {
        "id": "GzLjnaWXn9ej",
        "colab": {
          "base_uri": "https://localhost:8080/"
        },
        "outputId": "e5215b1a-1989-45a4-c8cb-52a112f28728"
      },
      "source": [
        "no = input(\"Input a three digit numbers: \")\n",
        "sum = int(no[0]) + int(no[1]) + int(no[2])\n",
        "print(\"The sum of digits in the number is\", sum)"
      ],
      "execution_count": null,
      "outputs": [
        {
          "output_type": "stream",
          "text": [
            "Input a three digit numbers: 918\n",
            "The sum of digits in the number is 18\n"
          ],
          "name": "stdout"
        }
      ]
    },
    {
      "cell_type": "markdown",
      "metadata": {
        "id": "s4ncKZc1kY_Z"
      },
      "source": [
        "**(5)**  Write some code to calculate the hypotenuse of a right angled triangle. Get the side lengths from the user.\n",
        "\n",
        "        user --> first side lenth : 6\n",
        "        user --> first side lenth : 8\n",
        "        output --> \"The length of the hypotenuse is 10"
      ]
    },
    {
      "cell_type": "code",
      "metadata": {
        "id": "xHKDwyzbn9ek",
        "colab": {
          "base_uri": "https://localhost:8080/"
        },
        "outputId": "62493ea4-2911-412f-be8e-dfcf666d5a56"
      },
      "source": [
        "first_side = input(\"Input length of first side: \")\n",
        "second_side = input(\"Input length of sesond side: \")\n",
        "hypo = ( int(first_side) ** 2 + int(second_side) ** 2) ** 0.5\n",
        "print(\"The length of the hypotenuse is\", hypo)"
      ],
      "execution_count": null,
      "outputs": [
        {
          "output_type": "stream",
          "text": [
            "Input length of first side: 5\n",
            "Input length of sesond side: 12\n",
            "The length of the hypotenuse is 13.0\n"
          ],
          "name": "stdout"
        }
      ]
    }
  ]
}