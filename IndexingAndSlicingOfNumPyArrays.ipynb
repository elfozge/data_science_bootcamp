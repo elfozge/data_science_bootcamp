{
  "nbformat": 4,
  "nbformat_minor": 0,
  "metadata": {
    "kernelspec": {
      "display_name": "Python 3",
      "language": "python",
      "name": "python3"
    },
    "language_info": {
      "codemirror_mode": {
        "name": "ipython",
        "version": 3
      },
      "file_extension": ".py",
      "mimetype": "text/x-python",
      "name": "python",
      "nbconvert_exporter": "python",
      "pygments_lexer": "ipython3",
      "version": "3.8.2"
    },
    "colab": {
      "name": "IndexingAndSlicingOfNumPyArrays.ipynb ",
      "provenance": [],
      "collapsed_sections": [],
      "include_colab_link": true
    }
  },
  "cells": [
    {
      "cell_type": "markdown",
      "metadata": {
        "id": "view-in-github",
        "colab_type": "text"
      },
      "source": [
        "<a href=\"https://colab.research.google.com/github/elfozge/data_science_bootcamp/blob/main/IndexingAndSlicingOfNumPyArrays.ipynb\" target=\"_parent\"><img src=\"https://colab.research.google.com/assets/colab-badge.svg\" alt=\"Open In Colab\"/></a>"
      ]
    },
    {
      "cell_type": "markdown",
      "metadata": {
        "id": "fLgaV_vXSj9o"
      },
      "source": [
        "For the assignment, you are going to use [Earthquakes](https://bootrain-lms-assets.s3.eu-central-1.amazonaws.com/bootrain-lms-static/datasets/Earthquakes.csv) dataset."
      ]
    },
    {
      "cell_type": "markdown",
      "metadata": {
        "id": "15b5dY9sSj9u"
      },
      "source": [
        "**(1)** Load the Earthquakes dataset. Export the dataset to an array as you covered in the previous lesson."
      ]
    },
    {
      "cell_type": "code",
      "metadata": {
        "id": "U2lQmuRgSj9v",
        "colab": {
          "base_uri": "https://localhost:8080/"
        },
        "outputId": "d1afaef2-b672-4ea3-ef1a-4d4e016ee322"
      },
      "source": [
        "import pandas as pd\n",
        "import numpy as np\n",
        "deprem = np.loadtxt('Earthquakes.csv', delimiter=',')\n",
        "print(deprem)"
      ],
      "execution_count": null,
      "outputs": [
        {
          "output_type": "stream",
          "text": [
            "[[0.000e+00 0.000e+00 0.000e+00 ... 4.000e+00 7.000e+00 0.000e+00]\n",
            " [1.000e+00 0.000e+00 0.000e+00 ... 4.100e+00 7.000e+00 0.000e+00]\n",
            " [2.000e+00 0.000e+00 0.000e+00 ... 4.400e+00 7.000e+00 0.000e+00]\n",
            " ...\n",
            " [6.571e+03 4.000e+00 0.000e+00 ... 4.800e+00 2.000e+00 0.000e+00]\n",
            " [6.572e+03 3.000e+00 0.000e+00 ... 5.200e+00 2.000e+00 0.000e+00]\n",
            " [6.573e+03 2.000e+00 0.000e+00 ... 4.400e+00 2.000e+00 0.000e+00]]\n"
          ],
          "name": "stdout"
        }
      ]
    },
    {
      "cell_type": "markdown",
      "metadata": {
        "id": "qANZqSzlSj9v"
      },
      "source": [
        "**(2)** Slice first 20 rows and column numbers 3, 5, 6, 7, 12. Then, assign the array you sliced to a variable."
      ]
    },
    {
      "cell_type": "code",
      "metadata": {
        "id": "XXPm1R3aSj9v",
        "colab": {
          "base_uri": "https://localhost:8080/"
        },
        "outputId": "60002b80-a1a8-4530-80ca-d104a87d4669"
      },
      "source": [
        "data = deprem[:20, [3, 5, 6, 7, 12]]\n",
        "print(data)"
      ],
      "execution_count": null,
      "outputs": [
        {
          "output_type": "stream",
          "text": [
            "[[ 0.     36.8578 44.4161 16.97    4.    ]\n",
            " [ 0.     37.4341 35.852   7.02    4.1   ]\n",
            " [ 0.     37.6878 37.4016 10.27    4.4   ]\n",
            " [ 0.     37.2003 30.4376 78.07    4.    ]\n",
            " [ 0.     35.6846 26.7266 42.77    4.5   ]\n",
            " [ 0.     36.4171 28.6991 14.86    4.1   ]\n",
            " [ 0.     36.0535 31.2135 36.68    5.2   ]\n",
            " [ 0.     37.1958 30.6241 50.33    4.8   ]\n",
            " [ 0.     36.9653 27.7633  6.93    4.3   ]\n",
            " [ 0.     38.893  26.4483 11.62    4.2   ]\n",
            " [ 0.     37.3773 36.3855 10.53    4.8   ]\n",
            " [ 0.     35.8861 26.0695 28.49    4.9   ]\n",
            " [ 0.     37.4635 36.3113 15.29    4.3   ]\n",
            " [ 0.     37.0201 36.0845 10.      4.1   ]\n",
            " [ 0.     37.6546 26.6698  4.5     4.5   ]\n",
            " [ 0.     37.5318 29.848  17.58    4.6   ]\n",
            " [ 0.     39.0388 44.1533  7.52    4.5   ]\n",
            " [ 0.     38.357  44.8686 10.05    4.1   ]\n",
            " [ 0.     35.7018 28.1495  6.25    4.1   ]\n",
            " [ 0.     37.6883 37.3968 10.63    4.1   ]]\n"
          ],
          "name": "stdout"
        }
      ]
    },
    {
      "cell_type": "markdown",
      "metadata": {
        "id": "J-QCHxeYSj9w"
      },
      "source": [
        "**(3)** Display the row numbers where last values are equal to 4.5 or higher."
      ]
    },
    {
      "cell_type": "code",
      "metadata": {
        "id": "i6nAuhm1Sj9w",
        "colab": {
          "base_uri": "https://localhost:8080/"
        },
        "outputId": "801cad05-0930-449e-9c72-bd231ef7933a"
      },
      "source": [
        "b = data[np.where(data[:,-1]>=4.5)]\n",
        "print(b)"
      ],
      "execution_count": null,
      "outputs": [
        {
          "output_type": "stream",
          "text": [
            "[[ 0.     35.6846 26.7266 42.77    4.5   ]\n",
            " [ 0.     36.0535 31.2135 36.68    5.2   ]\n",
            " [ 0.     37.1958 30.6241 50.33    4.8   ]\n",
            " [ 0.     37.3773 36.3855 10.53    4.8   ]\n",
            " [ 0.     35.8861 26.0695 28.49    4.9   ]\n",
            " [ 0.     37.6546 26.6698  4.5     4.5   ]\n",
            " [ 0.     37.5318 29.848  17.58    4.6   ]\n",
            " [ 0.     39.0388 44.1533  7.52    4.5   ]]\n"
          ],
          "name": "stdout"
        }
      ]
    },
    {
      "cell_type": "markdown",
      "metadata": {
        "id": "JL_3gJJqSj9w"
      },
      "source": [
        "**(4)** Assign 1 to first row."
      ]
    },
    {
      "cell_type": "code",
      "metadata": {
        "id": "LvKP8W0aSj9w",
        "colab": {
          "base_uri": "https://localhost:8080/"
        },
        "outputId": "fc04ff86-cdba-4bb8-f7e4-f863e544aadb"
      },
      "source": [
        "b[0:1,:] = 1\n",
        "print(b)"
      ],
      "execution_count": null,
      "outputs": [
        {
          "output_type": "stream",
          "text": [
            "[[ 1.      1.      1.      1.      1.    ]\n",
            " [ 0.     36.0535 31.2135 36.68    5.2   ]\n",
            " [ 0.     37.1958 30.6241 50.33    4.8   ]\n",
            " [ 0.     37.3773 36.3855 10.53    4.8   ]\n",
            " [ 0.     35.8861 26.0695 28.49    4.9   ]\n",
            " [ 0.     37.6546 26.6698  4.5     4.5   ]\n",
            " [ 0.     37.5318 29.848  17.58    4.6   ]\n",
            " [ 0.     39.0388 44.1533  7.52    4.5   ]]\n"
          ],
          "name": "stdout"
        }
      ]
    },
    {
      "cell_type": "markdown",
      "metadata": {
        "id": "o7pY3bMdSj9x"
      },
      "source": [
        "**(5)** Save the final state of the array to disk. You are going to use this in the next assignment."
      ]
    },
    {
      "cell_type": "code",
      "metadata": {
        "id": "SR69q0N9Sj9x"
      },
      "source": [
        "np.save(\"array_b.npy\", b)"
      ],
      "execution_count": null,
      "outputs": []
    },
    {
      "cell_type": "code",
      "metadata": {
        "colab": {
          "base_uri": "https://localhost:8080/"
        },
        "id": "FhOrqXIge05X",
        "outputId": "d99af918-18dc-49e8-f10c-d7f6d29f576a"
      },
      "source": [
        "# save işlemini kontrol edersek son haldeki array'e ulaştık\n",
        "array = np.load(\"array_b.npy\")\n",
        "print(array)"
      ],
      "execution_count": null,
      "outputs": [
        {
          "output_type": "stream",
          "text": [
            "[[ 1.      1.      1.      1.      1.    ]\n",
            " [ 0.     36.0535 31.2135 36.68    5.2   ]\n",
            " [ 0.     37.1958 30.6241 50.33    4.8   ]\n",
            " [ 0.     37.3773 36.3855 10.53    4.8   ]\n",
            " [ 0.     35.8861 26.0695 28.49    4.9   ]\n",
            " [ 0.     37.6546 26.6698  4.5     4.5   ]\n",
            " [ 0.     37.5318 29.848  17.58    4.6   ]\n",
            " [ 0.     39.0388 44.1533  7.52    4.5   ]]\n"
          ],
          "name": "stdout"
        }
      ]
    }
  ]
}